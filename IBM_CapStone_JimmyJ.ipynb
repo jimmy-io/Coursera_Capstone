{
  "nbformat": 4,
  "nbformat_minor": 0,
  "metadata": {
    "colab": {
      "name": "IBM_CapStone_JimmyJ.ipynb",
      "provenance": [],
      "collapsed_sections": [],
      "mount_file_id": "1TCGKYWyAh3Ug54n_BA9_3qwaFxV1-e27",
      "authorship_tag": "ABX9TyM8Ynp9UXT/2mW/PxXR3G3d",
      "include_colab_link": true
    },
    "kernelspec": {
      "name": "python3",
      "display_name": "Python 3"
    },
    "accelerator": "GPU"
  },
  "cells": [
    {
      "cell_type": "markdown",
      "metadata": {
        "id": "view-in-github",
        "colab_type": "text"
      },
      "source": [
        "<a href=\"https://colab.research.google.com/github/jimmy-io/Coursera_Capstone/blob/master/IBM_CapStone_JimmyJ.ipynb\" target=\"_parent\"><img src=\"https://colab.research.google.com/assets/colab-badge.svg\" alt=\"Open In Colab\"/></a>"
      ]
    },
    {
      "cell_type": "markdown",
      "metadata": {
        "id": "TjEBib9SuQ3L",
        "colab_type": "text"
      },
      "source": [
        "# Data Science Capstone Project\n",
        "\n",
        "## Jimmy J.\n",
        "\n",
        "### Introduction\n",
        "Frank Lloyd Wright said it best - “Tip the world over on its side and everything loose will land in Los Angeles.\" For decades people from all over the world have come to this city in search of home, family, love, fame, and fortune. Los Angeles welcomes this multicultural migration with a suburban sprawl that encompases over 88 cities, and even more unincorporated neihborhoods. Each of these neighborhoods are characterized by geographical, economic, and cultural features that make them uniquely poised to cater to different demographics.\n",
        "Neighborhoods like Downtown Los Angeles, Culver City, Long Beach, Century City, and West Hollywood provide a mixture of urban style living and accessibility to grocery stores, malls, means of public transportation and entertainment venues within walking distance. On the otherhand suburbs like Baldwin Hills, Crenshaw, Echo Park and Boyle Heights are quiter neighborhoods with single family dwellings that are not easily accessible via public modes of transportation.\n",
        "Given the vast spectrum of possibilites of neighborhoods to choose from in LA, someone looking to move here might be overwhelmed. In this project I've attempted to characterize neighborhoods in LA by the nature of venue that are in their immediate vicinities using a clustering algorithm. Results from this analysis show that neighborhoods in LA fall under a few groups, defined by the nature of the venues closest to them. This is of most interest to rental unit searching apps like Westiside Rentals or Rentpad, to real estate agents, and generally, to people looking to move to LA. The results of this project can help them find neighborhoods that are most aligned with what they are looking for in a place to live and overall, provide a more satisfactory experience than chosing a neighborhood at random."
      ]
    },
    {
      "cell_type": "markdown",
      "metadata": {
        "id": "vMvG3bNju2iV",
        "colab_type": "text"
      },
      "source": [
        "### Data\n",
        "The list of neighborhoods in Los Angeles was web scraped from Wikipedia using BeautifulSoup. The names of these neigborhoods were then fed into Nominatim to obtain their geographical coordinates.\n",
        "The venues in the vicinity of these neighborhoods will be retreived using the FourSquare API search engine. Venues of five different categories were chosen: Travel & Transport, Arts & Entertainment, Outdoors & Recreation, Nightlife Spot, and Food. The number of venues of each category for each neighborhood was counted and then normalized to give five parameters with which to cluster the neighborhoods by."
      ]
    },
    {
      "cell_type": "code",
      "metadata": {
        "id": "Oy79yTs5uDK4",
        "colab_type": "code",
        "colab": {}
      },
      "source": [
        "### Importing libraries \n",
        "\n",
        "import numpy as np # library to handle data in a vectorized manner\n",
        "import pandas as pd # library for data analsysis\n",
        "import re\n",
        "import json # library to handle JSON files\n",
        "#!conda install -c conda-forge geopy --yes # uncomment this line if you haven't completed the Foursquare API lab\n",
        "from geopy.geocoders import Nominatim # convert an address into latitude and longitude values\n",
        "import requests # library to handle requests\n",
        "from pandas.io.json import json_normalize # tranform JSON file into a pandas dataframe\n",
        "# Matplotlib and associated plotting modules\n",
        "import matplotlib.cm as cm\n",
        "import matplotlib.colors as colors\n",
        "# import k-means from clustering stage\n",
        "from sklearn.cluster import KMeans\n",
        "#!conda install -c conda-forge folium --yes # uncomment this line if you haven't completed the Foursquare API lab\n",
        "import folium # map rendering library\n",
        "import bs4 as bs\n",
        "import urllib.request\n",
        "import requests"
      ],
      "execution_count": 0,
      "outputs": []
    },
    {
      "cell_type": "code",
      "metadata": {
        "id": "DKLhbytOxlBz",
        "colab_type": "code",
        "colab": {
          "base_uri": "https://localhost:8080/",
          "height": 34
        },
        "outputId": "4da2c554-360f-413c-93ca-f37c890f9a77"
      },
      "source": [
        "#@hidden_cell\n",
        "\n",
        "CLIENT_ID = 'JS0P2BHNS4GICN4OT1LRM03JV0OLTO4QWS0I5AEITRLVI3QU' # your Foursquare ID\n",
        "CLIENT_SECRET = 'KGFP21SEFHLUXM2EPAI4HDLQOAI21MC1CY24RJ4AII4UX2Q3' # your Foursquare Secret\n",
        "VERSION = '20180605' # Foursquare API version\n",
        "\n",
        "print('Your credentails: hidden')"
      ],
      "execution_count": 4,
      "outputs": [
        {
          "output_type": "stream",
          "text": [
            "Your credentails: hidden\n"
          ],
          "name": "stdout"
        }
      ]
    },
    {
      "cell_type": "code",
      "metadata": {
        "id": "KhSgN00LxsBL",
        "colab_type": "code",
        "colab": {
          "base_uri": "https://localhost:8080/",
          "height": 204
        },
        "outputId": "b8c1502e-d0c0-44fa-8d70-a2684b52a5aa"
      },
      "source": [
        "# Scraping list of neighborhoods in LA\n",
        "\n",
        "source = urllib.request.urlopen('http://maps.latimes.com/neighborhoods/neighborhood/list/').read()\n",
        "soup=bs.BeautifulSoup(source, 'lxml')\n",
        "\n",
        "table = soup.find('table')\n",
        "\n",
        "table_rows = table.find_all('tr')\n",
        "\n",
        "ls = []\n",
        "for tr in table_rows:\n",
        "    td = tr.find_all('a')\n",
        "    row = [tr.text.strip() for tr in td]\n",
        "    ls.append(row)\n",
        "    \n",
        "LA_neighs = pd.DataFrame(ls, columns = ['Neighborhood','Region'])\n",
        "\n",
        "LA_neighs=LA_neighs.drop(LA_neighs.index[0])\n",
        "\n",
        "LA_neighs.tail()"
      ],
      "execution_count": 3,
      "outputs": [
        {
          "output_type": "execute_result",
          "data": {
            "text/html": [
              "<div>\n",
              "<style scoped>\n",
              "    .dataframe tbody tr th:only-of-type {\n",
              "        vertical-align: middle;\n",
              "    }\n",
              "\n",
              "    .dataframe tbody tr th {\n",
              "        vertical-align: top;\n",
              "    }\n",
              "\n",
              "    .dataframe thead th {\n",
              "        text-align: right;\n",
              "    }\n",
              "</style>\n",
              "<table border=\"1\" class=\"dataframe\">\n",
              "  <thead>\n",
              "    <tr style=\"text-align: right;\">\n",
              "      <th></th>\n",
              "      <th>Neighborhood</th>\n",
              "      <th>Region</th>\n",
              "    </tr>\n",
              "  </thead>\n",
              "  <tbody>\n",
              "    <tr>\n",
              "      <th>268</th>\n",
              "      <td>Willowbrook</td>\n",
              "      <td>South L.A.</td>\n",
              "    </tr>\n",
              "    <tr>\n",
              "      <th>269</th>\n",
              "      <td>Wilmington</td>\n",
              "      <td>Harbor</td>\n",
              "    </tr>\n",
              "    <tr>\n",
              "      <th>270</th>\n",
              "      <td>Windsor Square</td>\n",
              "      <td>Central L.A.</td>\n",
              "    </tr>\n",
              "    <tr>\n",
              "      <th>271</th>\n",
              "      <td>Winnetka</td>\n",
              "      <td>San Fernando Valley</td>\n",
              "    </tr>\n",
              "    <tr>\n",
              "      <th>272</th>\n",
              "      <td>Woodland Hills</td>\n",
              "      <td>San Fernando Valley</td>\n",
              "    </tr>\n",
              "  </tbody>\n",
              "</table>\n",
              "</div>"
            ],
            "text/plain": [
              "       Neighborhood               Region\n",
              "268     Willowbrook           South L.A.\n",
              "269      Wilmington               Harbor\n",
              "270  Windsor Square         Central L.A.\n",
              "271        Winnetka  San Fernando Valley\n",
              "272  Woodland Hills  San Fernando Valley"
            ]
          },
          "metadata": {
            "tags": []
          },
          "execution_count": 3
        }
      ]
    },
    {
      "cell_type": "code",
      "metadata": {
        "id": "HgQ9S6sjyWIU",
        "colab_type": "code",
        "colab": {}
      },
      "source": [
        "# Getting the latitude and longitude of neighborhoods in LA\n",
        "\n",
        "latitude = []\n",
        "longitude = []\n",
        "\n",
        "for name in LA_neighs['Neighborhood']:\n",
        "    try:\n",
        "        address = str(name)+\", Los Angeles, California\"\n",
        "        geolocator = Nominatim(user_agent=\"LA_explorer\")\n",
        "        location = geolocator.geocode(address)\n",
        "        latitude.append(location.latitude)\n",
        "        longitude.append(location.longitude)\n",
        "    except:\n",
        "        latitude.append(None)\n",
        "        longitude.append(None)\n",
        "\n",
        "LA_neighs['Latitude'] = latitude\n",
        "LA_neighs['Longitude'] = longitude"
      ],
      "execution_count": 0,
      "outputs": []
    }
  ]
}