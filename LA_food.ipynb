{
  "nbformat": 4,
  "nbformat_minor": 0,
  "metadata": {
    "colab": {
      "name": "LA_food.ipynb",
      "provenance": [],
      "collapsed_sections": [],
      "mount_file_id": "1TCGKYWyAh3Ug54n_BA9_3qwaFxV1-e27",
      "authorship_tag": "ABX9TyPJNFjyhTJo+CmTm3tS5nZZ",
      "include_colab_link": true
    },
    "kernelspec": {
      "name": "python3",
      "display_name": "Python 3"
    },
    "accelerator": "TPU"
  },
  "cells": [
    {
      "cell_type": "markdown",
      "metadata": {
        "id": "view-in-github",
        "colab_type": "text"
      },
      "source": [
        "<a href=\"https://colab.research.google.com/github/jimmy-io/Coursera_Capstone/blob/master/LA_food.ipynb\" target=\"_parent\"><img src=\"https://colab.research.google.com/assets/colab-badge.svg\" alt=\"Open In Colab\"/></a>"
      ]
    },
    {
      "cell_type": "markdown",
      "metadata": {
        "id": "TjEBib9SuQ3L",
        "colab_type": "text"
      },
      "source": [
        "# Data Science Capstone Project\n",
        "\n",
        "## Jimmy J.\n",
        "\n",
        "### Introduction\n",
        "Frank Lloyd Wright said it best - “Tip the world over on its side and everything loose will land in Los Angeles.\" For decades people from all over the world have come to this city in search of home, family, love, fame, and fortune. Los Angeles welcomes this multicultural migration with a suburban sprawl that encompases over 88 cities, and even more unincorporated neihborhoods. Each of these neighborhoods are characterized by geographical, economic, and cultural features that make them uniquely poised to cater to different demographics.\n",
        "Neighborhoods like Downtown Los Angeles, Culver City, Long Beach, Century City, and West Hollywood provide a mixture of urban style living and accessibility to grocery stores, malls, means of public transportation and entertainment venues within walking distance. On the otherhand suburbs like Baldwin Hills, Crenshaw, Echo Park and Boyle Heights are quiter neighborhoods with single family dwellings that are not easily accessible via public modes of transportation.\n",
        "Given the vast spectrum of possibilites of neighborhoods to choose from in LA, someone looking to move here might be overwhelmed. In this project I've attempted to characterize neighborhoods in LA by the nature of venue that are in their immediate vicinities using a clustering algorithm. Results from this analysis show that neighborhoods in LA fall under a few groups, defined by the nature of the venues closest to them. This is of most interest to rental unit searching apps like Westiside Rentals or Rentpad, to real estate agents, and generally, to people looking to move to LA. The results of this project can help them find neighborhoods that are most aligned with what they are looking for in a place to live and overall, provide a more satisfactory experience than chosing a neighborhood at random."
      ]
    },
    {
      "cell_type": "markdown",
      "metadata": {
        "id": "vMvG3bNju2iV",
        "colab_type": "text"
      },
      "source": [
        "### Data\n",
        "The list of neighborhoods in Los Angeles was web scraped from Wikipedia using BeautifulSoup. The names of these neigborhoods were then fed into Nominatim to obtain their geographical coordinates.\n",
        "The venues in the vicinity of these neighborhoods will be retreived using the FourSquare API search engine. Venues of five different categories were chosen: Travel & Transport, Arts & Entertainment, Outdoors & Recreation, Nightlife Spot, and Food. The number of venues of each category for each neighborhood was counted and then normalized to give five parameters with which to cluster the neighborhoods by."
      ]
    },
    {
      "cell_type": "code",
      "metadata": {
        "id": "Oy79yTs5uDK4",
        "colab_type": "code",
        "colab": {}
      },
      "source": [
        "### Importing libraries \n",
        "\n",
        "import numpy as np # library to handle data in a vectorized manner\n",
        "import pandas as pd # library for data analsysis\n",
        "import re\n",
        "import json # library to handle JSON files\n",
        "#!conda install -c conda-forge geopy --yes # uncomment this line if you haven't completed the Foursquare API lab\n",
        "from geopy.geocoders import Nominatim # convert an address into latitude and longitude values\n",
        "import requests # library to handle requests\n",
        "from pandas.io.json import json_normalize # tranform JSON file into a pandas dataframe\n",
        "# Matplotlib and associated plotting modules\n",
        "import matplotlib.cm as cm\n",
        "import matplotlib.colors as colors\n",
        "# import k-means from clustering stage\n",
        "from sklearn.cluster import KMeans\n",
        "#!conda install -c conda-forge folium --yes # uncomment this line if you haven't completed the Foursquare API lab\n",
        "import folium # map rendering library\n",
        "import bs4 as bs\n",
        "import urllib.request\n",
        "import requests\n",
        "import collections\n",
        "import csv"
      ],
      "execution_count": 0,
      "outputs": []
    },
    {
      "cell_type": "code",
      "metadata": {
        "id": "DKLhbytOxlBz",
        "colab_type": "code",
        "outputId": "f08acca3-99a1-4be8-c15b-34c14ca2d459",
        "colab": {
          "base_uri": "https://localhost:8080/",
          "height": 34
        }
      },
      "source": [
        "#@hidden_cell\n",
        "\n",
        "CLIENT_ID = 'JS0P2BHNS4GICN4OT1LRM03JV0OLTO4QWS0I5AEITRLVI3QU' # your Foursquare ID\n",
        "CLIENT_SECRET = 'KGFP21SEFHLUXM2EPAI4HDLQOAI21MC1CY24RJ4AII4UX2Q3' # your Foursquare Secret\n",
        "VERSION = '20180605' # Foursquare API version\n",
        "\n",
        "print('Your credentails: hidden')"
      ],
      "execution_count": 3,
      "outputs": [
        {
          "output_type": "stream",
          "text": [
            "Your credentails: hidden\n"
          ],
          "name": "stdout"
        }
      ]
    },
    {
      "cell_type": "code",
      "metadata": {
        "id": "hI6DS0lw2HBS",
        "colab_type": "code",
        "outputId": "9eba7f76-758d-4be4-feca-aa36c900a99a",
        "colab": {
          "base_uri": "https://localhost:8080/",
          "height": 34
        }
      },
      "source": [
        "# Retreiving the coordinates for Los Angeles \n",
        "\n",
        "address = 'Los Angeles, CA'\n",
        "\n",
        "geolocator = Nominatim(user_agent=\"LA_explorer\")\n",
        "location = geolocator.geocode(address)\n",
        "LAlatitude = location.latitude\n",
        "LAlongitude = location.longitude\n",
        "print('The geograpical coordinate of Los Angeles are {}, {}.'.format(LAlatitude, LAlongitude))"
      ],
      "execution_count": 2,
      "outputs": [
        {
          "output_type": "stream",
          "text": [
            "The geograpical coordinate of Los Angeles are 34.0536909, -118.2427666.\n"
          ],
          "name": "stdout"
        }
      ]
    },
    {
      "cell_type": "code",
      "metadata": {
        "colab_type": "code",
        "outputId": "c516edc3-5f9c-42a0-96e6-61717606f423",
        "id": "XU33WXUB2t5d",
        "colab": {
          "base_uri": "https://localhost:8080/",
          "height": 34
        }
      },
      "source": [
        "## Categories and IDs from FourSquare API\n",
        "\n",
        "catIds={}\n",
        "catIds={\n",
        "        'Food':'4d4b7105d754a06374d81259',\n",
        " \n",
        "       }\n",
        "catIds"
      ],
      "execution_count": 4,
      "outputs": [
        {
          "output_type": "execute_result",
          "data": {
            "text/plain": [
              "{'Food': '4d4b7105d754a06374d81259'}"
            ]
          },
          "metadata": {
            "tags": []
          },
          "execution_count": 4
        }
      ]
    },
    {
      "cell_type": "code",
      "metadata": {
        "id": "7HNUiau53oJt",
        "colab_type": "code",
        "outputId": "d877e0d9-1abf-47db-e976-8893aec896c3",
        "colab": {
          "base_uri": "https://localhost:8080/",
          "height": 51
        }
      },
      "source": [
        "for key in catIds:\n",
        "    print(key)\n",
        "    print(catIds[key])"
      ],
      "execution_count": 5,
      "outputs": [
        {
          "output_type": "stream",
          "text": [
            "Food\n",
            "4d4b7105d754a06374d81259\n"
          ],
          "name": "stdout"
        }
      ]
    },
    {
      "cell_type": "code",
      "metadata": {
        "id": "mSO8LhIr3sqU",
        "colab_type": "code",
        "colab": {}
      },
      "source": [
        "### Foursqaure API\n",
        "venues_list=[]\n",
        "LIMIT = 10000 # limit of number of venues returned by Foursquare API\n",
        "radius = 10000 # define radius\n",
        "categoryId='4d4b7105d754a06374d81259'\n",
        "url = 'https://api.foursquare.com/v2/venues/explore?&client_id={}&client_secret={}&v={}&ll={},{}&radius={}&categoryId={}&limit={}'.format(CLIENT_ID, \n",
        "                                                                                                                                              CLIENT_SECRET, \n",
        "                                                                                                                                              VERSION, \n",
        "                                                                                                                                              LAlatitude,\n",
        "                                                                                                                                              LAlongitude, \n",
        "                                                                                                                                              radius,\n",
        "                                                                                                                                              categoryId,\n",
        "                                                                                                                                              LIMIT)\n",
        "            \n",
        "    # make the GET request\n",
        "            \n",
        "results = requests.get(url).json()[\"response\"]['groups'][0]['items']\n",
        "        \n",
        "        \n",
        "    # return only relevant information for each nearby venue\n",
        "venues_list.append([(v['venue']['name'], \n",
        "                      v['venue']['location']['lat'], \n",
        "                      v['venue']['location']['lng'],  \n",
        "                      v['venue']['categories'][0]['name']) for v in results])\n",
        "            \n",
        "nearby_venues = pd.DataFrame([item for venue_list in venues_list for item in venue_list])\n",
        "nearby_venues.columns = ['Venue', \n",
        "                          'Venue Latitude', \n",
        "                          'Venue Longitude', \n",
        "                          'Venue Category']\n",
        "        \n",
        "\n"
      ],
      "execution_count": 0,
      "outputs": []
    },
    {
      "cell_type": "code",
      "metadata": {
        "id": "nAJPkDkC9rrd",
        "colab_type": "code",
        "outputId": "7468b070-7041-474c-f552-fb9b7ffea9e3",
        "colab": {
          "base_uri": "https://localhost:8080/",
          "height": 419
        }
      },
      "source": [
        "nearby_venues"
      ],
      "execution_count": 7,
      "outputs": [
        {
          "output_type": "execute_result",
          "data": {
            "text/html": [
              "<div>\n",
              "<style scoped>\n",
              "    .dataframe tbody tr th:only-of-type {\n",
              "        vertical-align: middle;\n",
              "    }\n",
              "\n",
              "    .dataframe tbody tr th {\n",
              "        vertical-align: top;\n",
              "    }\n",
              "\n",
              "    .dataframe thead th {\n",
              "        text-align: right;\n",
              "    }\n",
              "</style>\n",
              "<table border=\"1\" class=\"dataframe\">\n",
              "  <thead>\n",
              "    <tr style=\"text-align: right;\">\n",
              "      <th></th>\n",
              "      <th>Venue</th>\n",
              "      <th>Venue Latitude</th>\n",
              "      <th>Venue Longitude</th>\n",
              "      <th>Venue Category</th>\n",
              "    </tr>\n",
              "  </thead>\n",
              "  <tbody>\n",
              "    <tr>\n",
              "      <th>0</th>\n",
              "      <td>Redbird</td>\n",
              "      <td>34.050666</td>\n",
              "      <td>-118.244068</td>\n",
              "      <td>American Restaurant</td>\n",
              "    </tr>\n",
              "    <tr>\n",
              "      <th>1</th>\n",
              "      <td>Marugame Monzo</td>\n",
              "      <td>34.049807</td>\n",
              "      <td>-118.240202</td>\n",
              "      <td>Udon Restaurant</td>\n",
              "    </tr>\n",
              "    <tr>\n",
              "      <th>2</th>\n",
              "      <td>KazuNori: The Original Hand Roll Bar</td>\n",
              "      <td>34.047716</td>\n",
              "      <td>-118.247452</td>\n",
              "      <td>Sushi Restaurant</td>\n",
              "    </tr>\n",
              "    <tr>\n",
              "      <th>3</th>\n",
              "      <td>Café Dulcé</td>\n",
              "      <td>34.048869</td>\n",
              "      <td>-118.240508</td>\n",
              "      <td>Bakery</td>\n",
              "    </tr>\n",
              "    <tr>\n",
              "      <th>4</th>\n",
              "      <td>Sari Sari Store LA</td>\n",
              "      <td>34.051065</td>\n",
              "      <td>-118.249390</td>\n",
              "      <td>Filipino Restaurant</td>\n",
              "    </tr>\n",
              "    <tr>\n",
              "      <th>...</th>\n",
              "      <td>...</td>\n",
              "      <td>...</td>\n",
              "      <td>...</td>\n",
              "      <td>...</td>\n",
              "    </tr>\n",
              "    <tr>\n",
              "      <th>95</th>\n",
              "      <td>Mh Zh</td>\n",
              "      <td>34.089486</td>\n",
              "      <td>-118.276920</td>\n",
              "      <td>Restaurant</td>\n",
              "    </tr>\n",
              "    <tr>\n",
              "      <th>96</th>\n",
              "      <td>Taqueria El Atacor #1</td>\n",
              "      <td>34.088716</td>\n",
              "      <td>-118.214553</td>\n",
              "      <td>Mexican Restaurant</td>\n",
              "    </tr>\n",
              "    <tr>\n",
              "      <th>97</th>\n",
              "      <td>Kang Ho Dong Baek Jeong</td>\n",
              "      <td>34.063828</td>\n",
              "      <td>-118.297364</td>\n",
              "      <td>Korean Restaurant</td>\n",
              "    </tr>\n",
              "    <tr>\n",
              "      <th>98</th>\n",
              "      <td>Ham Ji Park</td>\n",
              "      <td>34.063633</td>\n",
              "      <td>-118.295838</td>\n",
              "      <td>Korean Restaurant</td>\n",
              "    </tr>\n",
              "    <tr>\n",
              "      <th>99</th>\n",
              "      <td>California Donuts</td>\n",
              "      <td>34.068965</td>\n",
              "      <td>-118.293116</td>\n",
              "      <td>Donut Shop</td>\n",
              "    </tr>\n",
              "  </tbody>\n",
              "</table>\n",
              "<p>100 rows × 4 columns</p>\n",
              "</div>"
            ],
            "text/plain": [
              "                                   Venue  ...       Venue Category\n",
              "0                                Redbird  ...  American Restaurant\n",
              "1                         Marugame Monzo  ...      Udon Restaurant\n",
              "2   KazuNori: The Original Hand Roll Bar  ...     Sushi Restaurant\n",
              "3                             Café Dulcé  ...               Bakery\n",
              "4                     Sari Sari Store LA  ...  Filipino Restaurant\n",
              "..                                   ...  ...                  ...\n",
              "95                                 Mh Zh  ...           Restaurant\n",
              "96                 Taqueria El Atacor #1  ...   Mexican Restaurant\n",
              "97               Kang Ho Dong Baek Jeong  ...    Korean Restaurant\n",
              "98                           Ham Ji Park  ...    Korean Restaurant\n",
              "99                     California Donuts  ...           Donut Shop\n",
              "\n",
              "[100 rows x 4 columns]"
            ]
          },
          "metadata": {
            "tags": []
          },
          "execution_count": 7
        }
      ]
    },
    {
      "cell_type": "code",
      "metadata": {
        "id": "v-vyY20e91em",
        "colab_type": "code",
        "colab": {}
      },
      "source": [
        "## Saving the nearby venues data as a csv to avoid repeated API calls \n",
        "nearby_venues.to_csv('/content/drive/My Drive/IBM Capstone/LA_food.csv')"
      ],
      "execution_count": 0,
      "outputs": []
    },
    {
      "cell_type": "code",
      "metadata": {
        "id": "hVahgXpX98b-",
        "colab_type": "code",
        "colab": {}
      },
      "source": [
        "## Reading the nearby venues data as a csv\n",
        "la_food  = pd.read_csv('/content/drive/My Drive/IBM Capstone/LA_food.csv', index_col=[0])"
      ],
      "execution_count": 0,
      "outputs": []
    },
    {
      "cell_type": "code",
      "metadata": {
        "id": "F7G3ApVC-LWB",
        "colab_type": "code",
        "outputId": "b382634c-07fe-42ba-e791-83ca9b75c860",
        "colab": {
          "base_uri": "https://localhost:8080/",
          "height": 204
        }
      },
      "source": [
        "la_food.head()"
      ],
      "execution_count": 15,
      "outputs": [
        {
          "output_type": "execute_result",
          "data": {
            "text/html": [
              "<div>\n",
              "<style scoped>\n",
              "    .dataframe tbody tr th:only-of-type {\n",
              "        vertical-align: middle;\n",
              "    }\n",
              "\n",
              "    .dataframe tbody tr th {\n",
              "        vertical-align: top;\n",
              "    }\n",
              "\n",
              "    .dataframe thead th {\n",
              "        text-align: right;\n",
              "    }\n",
              "</style>\n",
              "<table border=\"1\" class=\"dataframe\">\n",
              "  <thead>\n",
              "    <tr style=\"text-align: right;\">\n",
              "      <th></th>\n",
              "      <th>Venue</th>\n",
              "      <th>Venue Latitude</th>\n",
              "      <th>Venue Longitude</th>\n",
              "      <th>Venue Category</th>\n",
              "    </tr>\n",
              "  </thead>\n",
              "  <tbody>\n",
              "    <tr>\n",
              "      <th>0</th>\n",
              "      <td>Redbird</td>\n",
              "      <td>34.050666</td>\n",
              "      <td>-118.244068</td>\n",
              "      <td>American Restaurant</td>\n",
              "    </tr>\n",
              "    <tr>\n",
              "      <th>1</th>\n",
              "      <td>Marugame Monzo</td>\n",
              "      <td>34.049807</td>\n",
              "      <td>-118.240202</td>\n",
              "      <td>Udon Restaurant</td>\n",
              "    </tr>\n",
              "    <tr>\n",
              "      <th>2</th>\n",
              "      <td>KazuNori: The Original Hand Roll Bar</td>\n",
              "      <td>34.047716</td>\n",
              "      <td>-118.247452</td>\n",
              "      <td>Sushi Restaurant</td>\n",
              "    </tr>\n",
              "    <tr>\n",
              "      <th>3</th>\n",
              "      <td>Café Dulcé</td>\n",
              "      <td>34.048869</td>\n",
              "      <td>-118.240508</td>\n",
              "      <td>Bakery</td>\n",
              "    </tr>\n",
              "    <tr>\n",
              "      <th>4</th>\n",
              "      <td>Sari Sari Store LA</td>\n",
              "      <td>34.051065</td>\n",
              "      <td>-118.249390</td>\n",
              "      <td>Filipino Restaurant</td>\n",
              "    </tr>\n",
              "  </tbody>\n",
              "</table>\n",
              "</div>"
            ],
            "text/plain": [
              "                                  Venue  ...       Venue Category\n",
              "0                               Redbird  ...  American Restaurant\n",
              "1                        Marugame Monzo  ...      Udon Restaurant\n",
              "2  KazuNori: The Original Hand Roll Bar  ...     Sushi Restaurant\n",
              "3                            Café Dulcé  ...               Bakery\n",
              "4                    Sari Sari Store LA  ...  Filipino Restaurant\n",
              "\n",
              "[5 rows x 4 columns]"
            ]
          },
          "metadata": {
            "tags": []
          },
          "execution_count": 15
        }
      ]
    },
    {
      "cell_type": "code",
      "metadata": {
        "id": "qfJuMl4up8G1",
        "colab_type": "code",
        "colab": {}
      },
      "source": [
        ""
      ],
      "execution_count": 0,
      "outputs": []
    }
  ]
}