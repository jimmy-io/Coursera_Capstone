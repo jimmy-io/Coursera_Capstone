{
  "nbformat": 4,
  "nbformat_minor": 0,
  "metadata": {
    "colab": {
      "name": "LA_food.ipynb",
      "provenance": [],
      "collapsed_sections": [],
      "mount_file_id": "1TCGKYWyAh3Ug54n_BA9_3qwaFxV1-e27",
      "authorship_tag": "ABX9TyOhQhOQpUxwZZINNKS7I1Wz",
      "include_colab_link": true
    },
    "kernelspec": {
      "name": "python3",
      "display_name": "Python 3"
    },
    "accelerator": "TPU"
  },
  "cells": [
    {
      "cell_type": "markdown",
      "metadata": {
        "id": "view-in-github",
        "colab_type": "text"
      },
      "source": [
        "<a href=\"https://colab.research.google.com/github/jimmy-io/Coursera_Capstone/blob/master/LA_food.ipynb\" target=\"_parent\"><img src=\"https://colab.research.google.com/assets/colab-badge.svg\" alt=\"Open In Colab\"/></a>"
      ]
    },
    {
      "cell_type": "markdown",
      "metadata": {
        "id": "TjEBib9SuQ3L",
        "colab_type": "text"
      },
      "source": [
        "# Data Science Capstone Project\n",
        "\n",
        "## Jimmy J.\n",
        "\n",
        "### Introduction\n",
        "Frank Lloyd Wright said it best - “Tip the world over on its side and everything loose will land in Los Angeles.\" For decades people from all over the world have come to this city in search of home, family, love, fame, and fortune. Los Angeles welcomes this multicultural migration with a suburban sprawl that encompases over 88 cities, and even more unincorporated neihborhoods. Each of these neighborhoods are characterized by geographical, economic, and cultural features that make them uniquely poised to cater to different demographics.\n",
        "Neighborhoods like Downtown Los Angeles, Culver City, Long Beach, Century City, and West Hollywood provide a mixture of urban style living and accessibility to grocery stores, malls, means of public transportation and entertainment venues within walking distance. On the otherhand suburbs like Baldwin Hills, Crenshaw, Echo Park and Boyle Heights are quiter neighborhoods with single family dwellings that are not easily accessible via public modes of transportation.\n",
        "Given the vast spectrum of possibilites of neighborhoods to choose from in LA, someone looking to move here might be overwhelmed. In this project I've attempted to characterize neighborhoods in LA by the nature of venue that are in their immediate vicinities using a clustering algorithm. Results from this analysis show that neighborhoods in LA fall under a few groups, defined by the nature of the venues closest to them. This is of most interest to rental unit searching apps like Westiside Rentals or Rentpad, to real estate agents, and generally, to people looking to move to LA. The results of this project can help them find neighborhoods that are most aligned with what they are looking for in a place to live and overall, provide a more satisfactory experience than chosing a neighborhood at random."
      ]
    },
    {
      "cell_type": "markdown",
      "metadata": {
        "id": "vMvG3bNju2iV",
        "colab_type": "text"
      },
      "source": [
        "### Data\n",
        "The list of neighborhoods in Los Angeles was web scraped from Wikipedia using BeautifulSoup. The names of these neigborhoods were then fed into Nominatim to obtain their geographical coordinates.\n",
        "The venues in the vicinity of these neighborhoods will be retreived using the FourSquare API search engine. Venues of five different categories were chosen: Travel & Transport, Arts & Entertainment, Outdoors & Recreation, Nightlife Spot, and Food. The number of venues of each category for each neighborhood was counted and then normalized to give five parameters with which to cluster the neighborhoods by."
      ]
    },
    {
      "cell_type": "code",
      "metadata": {
        "id": "Oy79yTs5uDK4",
        "colab_type": "code",
        "colab": {}
      },
      "source": [
        "### Importing libraries \n",
        "\n",
        "import numpy as np # library to handle data in a vectorized manner\n",
        "import pandas as pd # library for data analsysis\n",
        "import re\n",
        "import json # library to handle JSON files\n",
        "#!conda install -c conda-forge geopy --yes # uncomment this line if you haven't completed the Foursquare API lab\n",
        "from geopy.geocoders import Nominatim # convert an address into latitude and longitude values\n",
        "import requests # library to handle requests\n",
        "from pandas.io.json import json_normalize # tranform JSON file into a pandas dataframe\n",
        "# Matplotlib and associated plotting modules\n",
        "import matplotlib.cm as cm\n",
        "import matplotlib.colors as colors\n",
        "# import k-means from clustering stage\n",
        "from sklearn.cluster import KMeans\n",
        "#!conda install -c conda-forge folium --yes # uncomment this line if you haven't completed the Foursquare API lab\n",
        "import folium # map rendering library\n",
        "import bs4 as bs\n",
        "import urllib.request\n",
        "import requests\n",
        "import collections\n",
        "import csv"
      ],
      "execution_count": 0,
      "outputs": []
    },
    {
      "cell_type": "code",
      "metadata": {
        "id": "DKLhbytOxlBz",
        "colab_type": "code",
        "outputId": "f08acca3-99a1-4be8-c15b-34c14ca2d459",
        "colab": {
          "base_uri": "https://localhost:8080/",
          "height": 34
        }
      },
      "source": [
        "#@hidden_cell\n",
        "\n",
        "CLIENT_ID = 'JS0P2BHNS4GICN4OT1LRM03JV0OLTO4QWS0I5AEITRLVI3QU' # your Foursquare ID\n",
        "CLIENT_SECRET = 'KGFP21SEFHLUXM2EPAI4HDLQOAI21MC1CY24RJ4AII4UX2Q3' # your Foursquare Secret\n",
        "VERSION = '20180605' # Foursquare API version\n",
        "\n",
        "print('Your credentails: hidden')"
      ],
      "execution_count": 3,
      "outputs": [
        {
          "output_type": "stream",
          "text": [
            "Your credentails: hidden\n"
          ],
          "name": "stdout"
        }
      ]
    },
    {
      "cell_type": "code",
      "metadata": {
        "id": "hI6DS0lw2HBS",
        "colab_type": "code",
        "outputId": "9eba7f76-758d-4be4-feca-aa36c900a99a",
        "colab": {
          "base_uri": "https://localhost:8080/",
          "height": 34
        }
      },
      "source": [
        "# Retreiving the coordinates for Los Angeles \n",
        "\n",
        "address = 'Los Angeles, CA'\n",
        "\n",
        "geolocator = Nominatim(user_agent=\"LA_explorer\")\n",
        "location = geolocator.geocode(address)\n",
        "LAlatitude = location.latitude\n",
        "LAlongitude = location.longitude\n",
        "print('The geograpical coordinate of Los Angeles are {}, {}.'.format(LAlatitude, LAlongitude))"
      ],
      "execution_count": 2,
      "outputs": [
        {
          "output_type": "stream",
          "text": [
            "The geograpical coordinate of Los Angeles are 34.0536909, -118.2427666.\n"
          ],
          "name": "stdout"
        }
      ]
    },
    {
      "cell_type": "code",
      "metadata": {
        "colab_type": "code",
        "outputId": "c516edc3-5f9c-42a0-96e6-61717606f423",
        "id": "XU33WXUB2t5d",
        "colab": {
          "base_uri": "https://localhost:8080/",
          "height": 34
        }
      },
      "source": [
        "## Categories and IDs from FourSquare API\n",
        "\n",
        "catIds={}\n",
        "catIds={\n",
        "        'Food':'4d4b7105d754a06374d81259',\n",
        " \n",
        "       }\n",
        "catIds"
      ],
      "execution_count": 4,
      "outputs": [
        {
          "output_type": "execute_result",
          "data": {
            "text/plain": [
              "{'Food': '4d4b7105d754a06374d81259'}"
            ]
          },
          "metadata": {
            "tags": []
          },
          "execution_count": 4
        }
      ]
    },
    {
      "cell_type": "code",
      "metadata": {
        "id": "7HNUiau53oJt",
        "colab_type": "code",
        "outputId": "d877e0d9-1abf-47db-e976-8893aec896c3",
        "colab": {
          "base_uri": "https://localhost:8080/",
          "height": 51
        }
      },
      "source": [
        "for key in catIds:\n",
        "    print(key)\n",
        "    print(catIds[key])"
      ],
      "execution_count": 5,
      "outputs": [
        {
          "output_type": "stream",
          "text": [
            "Food\n",
            "4d4b7105d754a06374d81259\n"
          ],
          "name": "stdout"
        }
      ]
    },
    {
      "cell_type": "code",
      "metadata": {
        "id": "mSO8LhIr3sqU",
        "colab_type": "code",
        "colab": {}
      },
      "source": [
        "### Foursqaure API\n",
        "venues_list=[]\n",
        "LIMIT = 10000 # limit of number of venues returned by Foursquare API\n",
        "radius = 10000 # define radius\n",
        "categoryId='4d4b7105d754a06374d81259'\n",
        "url = 'https://api.foursquare.com/v2/venues/explore?&client_id={}&client_secret={}&v={}&ll={},{}&radius={}&categoryId={}&limit={}'.format(CLIENT_ID, \n",
        "                                                                                                                                              CLIENT_SECRET, \n",
        "                                                                                                                                              VERSION, \n",
        "                                                                                                                                              LAlatitude,\n",
        "                                                                                                                                              LAlongitude, \n",
        "                                                                                                                                              radius,\n",
        "                                                                                                                                              categoryId,\n",
        "                                                                                                                                              LIMIT)\n",
        "            \n",
        "    # make the GET request\n",
        "            \n",
        "results = requests.get(url).json()[\"response\"]['groups'][0]['items']\n",
        "        \n",
        "        \n",
        "    # return only relevant information for each nearby venue\n",
        "venues_list.append([(v['venue']['id'],\n",
        "                     v['venue']['name'], \n",
        "                      v['venue']['location']['lat'], \n",
        "                      v['venue']['location']['lng'],  \n",
        "                      v['venue']['categories'][0]['name']) for v in results])\n",
        "            \n",
        "nearby_venues = pd.DataFrame([item for venue_list in venues_list for item in venue_list])\n",
        "nearby_venues.columns = ['id',\n",
        "                         'Venue', \n",
        "                          'Venue Latitude', \n",
        "                          'Venue Longitude', \n",
        "                          'Venue Category']\n",
        "        \n",
        "\n"
      ],
      "execution_count": 0,
      "outputs": []
    },
    {
      "cell_type": "code",
      "metadata": {
        "id": "nAJPkDkC9rrd",
        "colab_type": "code",
        "outputId": "9616e743-5493-4797-8bb7-14b90494621c",
        "colab": {
          "base_uri": "https://localhost:8080/",
          "height": 419
        }
      },
      "source": [
        "nearby_venues"
      ],
      "execution_count": 17,
      "outputs": [
        {
          "output_type": "execute_result",
          "data": {
            "text/html": [
              "<div>\n",
              "<style scoped>\n",
              "    .dataframe tbody tr th:only-of-type {\n",
              "        vertical-align: middle;\n",
              "    }\n",
              "\n",
              "    .dataframe tbody tr th {\n",
              "        vertical-align: top;\n",
              "    }\n",
              "\n",
              "    .dataframe thead th {\n",
              "        text-align: right;\n",
              "    }\n",
              "</style>\n",
              "<table border=\"1\" class=\"dataframe\">\n",
              "  <thead>\n",
              "    <tr style=\"text-align: right;\">\n",
              "      <th></th>\n",
              "      <th>id</th>\n",
              "      <th>Venue</th>\n",
              "      <th>Venue Latitude</th>\n",
              "      <th>Venue Longitude</th>\n",
              "      <th>Venue Category</th>\n",
              "    </tr>\n",
              "  </thead>\n",
              "  <tbody>\n",
              "    <tr>\n",
              "      <th>0</th>\n",
              "      <td>54938133498ed65f02e8c4ba</td>\n",
              "      <td>Redbird</td>\n",
              "      <td>34.050666</td>\n",
              "      <td>-118.244068</td>\n",
              "      <td>American Restaurant</td>\n",
              "    </tr>\n",
              "    <tr>\n",
              "      <th>1</th>\n",
              "      <td>5143f2d7e4b039102cf9793f</td>\n",
              "      <td>Marugame Monzo</td>\n",
              "      <td>34.049807</td>\n",
              "      <td>-118.240202</td>\n",
              "      <td>Udon Restaurant</td>\n",
              "    </tr>\n",
              "    <tr>\n",
              "      <th>2</th>\n",
              "      <td>53d06bba498e6c801ea9816e</td>\n",
              "      <td>KazuNori: The Original Hand Roll Bar</td>\n",
              "      <td>34.047716</td>\n",
              "      <td>-118.247452</td>\n",
              "      <td>Sushi Restaurant</td>\n",
              "    </tr>\n",
              "    <tr>\n",
              "      <th>3</th>\n",
              "      <td>4da117b2bf22a143f96894f8</td>\n",
              "      <td>Café Dulcé</td>\n",
              "      <td>34.048869</td>\n",
              "      <td>-118.240508</td>\n",
              "      <td>Bakery</td>\n",
              "    </tr>\n",
              "    <tr>\n",
              "      <th>4</th>\n",
              "      <td>5956f0d0f5e9d7161f043456</td>\n",
              "      <td>Sari Sari Store LA</td>\n",
              "      <td>34.051065</td>\n",
              "      <td>-118.249390</td>\n",
              "      <td>Filipino Restaurant</td>\n",
              "    </tr>\n",
              "    <tr>\n",
              "      <th>...</th>\n",
              "      <td>...</td>\n",
              "      <td>...</td>\n",
              "      <td>...</td>\n",
              "      <td>...</td>\n",
              "      <td>...</td>\n",
              "    </tr>\n",
              "    <tr>\n",
              "      <th>95</th>\n",
              "      <td>58d53ac1b38b326aadf27157</td>\n",
              "      <td>Mh Zh</td>\n",
              "      <td>34.089486</td>\n",
              "      <td>-118.276920</td>\n",
              "      <td>Restaurant</td>\n",
              "    </tr>\n",
              "    <tr>\n",
              "      <th>96</th>\n",
              "      <td>4e81441d775b12e15f84165f</td>\n",
              "      <td>Taqueria El Atacor #1</td>\n",
              "      <td>34.088716</td>\n",
              "      <td>-118.214553</td>\n",
              "      <td>Mexican Restaurant</td>\n",
              "    </tr>\n",
              "    <tr>\n",
              "      <th>97</th>\n",
              "      <td>4f0fcb0be4b07e9ec8c0cacc</td>\n",
              "      <td>Kang Ho Dong Baek Jeong</td>\n",
              "      <td>34.063828</td>\n",
              "      <td>-118.297364</td>\n",
              "      <td>Korean Restaurant</td>\n",
              "    </tr>\n",
              "    <tr>\n",
              "      <th>98</th>\n",
              "      <td>4ab537aef964a520527320e3</td>\n",
              "      <td>Ham Ji Park</td>\n",
              "      <td>34.063633</td>\n",
              "      <td>-118.295838</td>\n",
              "      <td>Korean Restaurant</td>\n",
              "    </tr>\n",
              "    <tr>\n",
              "      <th>99</th>\n",
              "      <td>4b77ac13f964a52061a62ee3</td>\n",
              "      <td>California Donuts</td>\n",
              "      <td>34.068965</td>\n",
              "      <td>-118.293116</td>\n",
              "      <td>Donut Shop</td>\n",
              "    </tr>\n",
              "  </tbody>\n",
              "</table>\n",
              "<p>100 rows × 5 columns</p>\n",
              "</div>"
            ],
            "text/plain": [
              "                          id  ...       Venue Category\n",
              "0   54938133498ed65f02e8c4ba  ...  American Restaurant\n",
              "1   5143f2d7e4b039102cf9793f  ...      Udon Restaurant\n",
              "2   53d06bba498e6c801ea9816e  ...     Sushi Restaurant\n",
              "3   4da117b2bf22a143f96894f8  ...               Bakery\n",
              "4   5956f0d0f5e9d7161f043456  ...  Filipino Restaurant\n",
              "..                       ...  ...                  ...\n",
              "95  58d53ac1b38b326aadf27157  ...           Restaurant\n",
              "96  4e81441d775b12e15f84165f  ...   Mexican Restaurant\n",
              "97  4f0fcb0be4b07e9ec8c0cacc  ...    Korean Restaurant\n",
              "98  4ab537aef964a520527320e3  ...    Korean Restaurant\n",
              "99  4b77ac13f964a52061a62ee3  ...           Donut Shop\n",
              "\n",
              "[100 rows x 5 columns]"
            ]
          },
          "metadata": {
            "tags": []
          },
          "execution_count": 17
        }
      ]
    },
    {
      "cell_type": "code",
      "metadata": {
        "id": "v-vyY20e91em",
        "colab_type": "code",
        "colab": {}
      },
      "source": [
        "## Saving the nearby venues data as a csv to avoid repeated API calls \n",
        "nearby_venues.to_csv('/content/drive/My Drive/IBM Capstone/LA_food.csv')"
      ],
      "execution_count": 0,
      "outputs": []
    },
    {
      "cell_type": "code",
      "metadata": {
        "id": "hVahgXpX98b-",
        "colab_type": "code",
        "colab": {}
      },
      "source": [
        "## Reading the nearby venues data as a csv\n",
        "la_food  = pd.read_csv('/content/drive/My Drive/IBM Capstone/LA_food.csv', index_col=[0])"
      ],
      "execution_count": 0,
      "outputs": []
    },
    {
      "cell_type": "code",
      "metadata": {
        "id": "F7G3ApVC-LWB",
        "colab_type": "code",
        "outputId": "f649ac19-1766-4c0f-b465-6d97a5c4fb9e",
        "colab": {
          "base_uri": "https://localhost:8080/",
          "height": 204
        }
      },
      "source": [
        "la_food.tail()"
      ],
      "execution_count": 45,
      "outputs": [
        {
          "output_type": "execute_result",
          "data": {
            "text/html": [
              "<div>\n",
              "<style scoped>\n",
              "    .dataframe tbody tr th:only-of-type {\n",
              "        vertical-align: middle;\n",
              "    }\n",
              "\n",
              "    .dataframe tbody tr th {\n",
              "        vertical-align: top;\n",
              "    }\n",
              "\n",
              "    .dataframe thead th {\n",
              "        text-align: right;\n",
              "    }\n",
              "</style>\n",
              "<table border=\"1\" class=\"dataframe\">\n",
              "  <thead>\n",
              "    <tr style=\"text-align: right;\">\n",
              "      <th></th>\n",
              "      <th>id</th>\n",
              "      <th>Venue</th>\n",
              "      <th>Venue Latitude</th>\n",
              "      <th>Venue Longitude</th>\n",
              "      <th>Venue Category</th>\n",
              "    </tr>\n",
              "  </thead>\n",
              "  <tbody>\n",
              "    <tr>\n",
              "      <th>95</th>\n",
              "      <td>58d53ac1b38b326aadf27157</td>\n",
              "      <td>Mh Zh</td>\n",
              "      <td>34.089486</td>\n",
              "      <td>-118.276920</td>\n",
              "      <td>Restaurant</td>\n",
              "    </tr>\n",
              "    <tr>\n",
              "      <th>96</th>\n",
              "      <td>4e81441d775b12e15f84165f</td>\n",
              "      <td>Taqueria El Atacor #1</td>\n",
              "      <td>34.088716</td>\n",
              "      <td>-118.214553</td>\n",
              "      <td>Mexican Restaurant</td>\n",
              "    </tr>\n",
              "    <tr>\n",
              "      <th>97</th>\n",
              "      <td>4f0fcb0be4b07e9ec8c0cacc</td>\n",
              "      <td>Kang Ho Dong Baek Jeong</td>\n",
              "      <td>34.063828</td>\n",
              "      <td>-118.297364</td>\n",
              "      <td>Korean Restaurant</td>\n",
              "    </tr>\n",
              "    <tr>\n",
              "      <th>98</th>\n",
              "      <td>4ab537aef964a520527320e3</td>\n",
              "      <td>Ham Ji Park</td>\n",
              "      <td>34.063633</td>\n",
              "      <td>-118.295838</td>\n",
              "      <td>Korean Restaurant</td>\n",
              "    </tr>\n",
              "    <tr>\n",
              "      <th>99</th>\n",
              "      <td>4b77ac13f964a52061a62ee3</td>\n",
              "      <td>California Donuts</td>\n",
              "      <td>34.068965</td>\n",
              "      <td>-118.293116</td>\n",
              "      <td>Donut Shop</td>\n",
              "    </tr>\n",
              "  </tbody>\n",
              "</table>\n",
              "</div>"
            ],
            "text/plain": [
              "                          id  ...      Venue Category\n",
              "95  58d53ac1b38b326aadf27157  ...          Restaurant\n",
              "96  4e81441d775b12e15f84165f  ...  Mexican Restaurant\n",
              "97  4f0fcb0be4b07e9ec8c0cacc  ...   Korean Restaurant\n",
              "98  4ab537aef964a520527320e3  ...   Korean Restaurant\n",
              "99  4b77ac13f964a52061a62ee3  ...          Donut Shop\n",
              "\n",
              "[5 rows x 5 columns]"
            ]
          },
          "metadata": {
            "tags": []
          },
          "execution_count": 45
        }
      ]
    },
    {
      "cell_type": "code",
      "metadata": {
        "id": "qfJuMl4up8G1",
        "colab_type": "code",
        "colab": {}
      },
      "source": [
        "menu_list=[]\n",
        "LIMIT = 10000 # limit of number of venues returned by Foursquare API\n",
        "radius = 10000 # define radius\n",
        "venueId= '5956f0d0f5e9d7161f043456'\n",
        "url = 'https://api.foursquare.com/v2/venues/{}/menu?&client_id={}&client_secret={}&v={}'.format(venueId,\n",
        "                                                                                                         CLIENT_ID,\n",
        "                                                                                                         CLIENT_SECRET,\n",
        "                                                                                                         VERSION)\n",
        "            \n",
        "    # make the GET request\n",
        "            \n",
        "results = requests.get(url).json()\n",
        "        "
      ],
      "execution_count": 0,
      "outputs": []
    },
    {
      "cell_type": "code",
      "metadata": {
        "id": "N6C919lDsQ_3",
        "colab_type": "code",
        "colab": {
          "base_uri": "https://localhost:8080/",
          "height": 1000
        },
        "outputId": "0cd53240-ee5f-4c1d-8af0-ec4a751c0fdb"
      },
      "source": [
        "        \n",
        "    # return only relevant information for each nearby venue\n",
        "venues_list.append([(v['venue']['id'],\n",
        "                     v['venue']['name'], \n",
        "                      v['venue']['location']['lat'], \n",
        "                      v['venue']['location']['lng'],  \n",
        "                      v['venue']['categories'][0]['name']) for v in results])\n",
        "            \n",
        "nearby_venues = pd.DataFrame([item for venue_list in venues_list for item in venue_list])\n",
        "nearby_venues.columns = ['id',\n",
        "                         'Venue', \n",
        "                          'Venue Latitude', \n",
        "                          'Venue Longitude', \n",
        "                          'Venue Category']"
      ],
      "execution_count": 56,
      "outputs": [
        {
          "output_type": "execute_result",
          "data": {
            "text/plain": [
              "{'meta': {'code': 200, 'requestId': '5e5eec8d660a9f001bbe2a06'},\n",
              " 'response': {'menu': {'menus': {'count': 1,\n",
              "    'items': [{'description': '',\n",
              "      'entries': {'count': 7,\n",
              "       'items': [{'description': 'All rice bowls feature a fried egg unless noted otherwise',\n",
              "         'entries': {'count': 7,\n",
              "          'items': [{'additions': [],\n",
              "            'description': \"Mary's Organic Chicken, Rice Porridge, Mushrooms, Soft Egg\",\n",
              "            'entryId': '134825521',\n",
              "            'name': 'Arroz Caldo',\n",
              "            'options': [],\n",
              "            'price': '12.00',\n",
              "            'prices': ['12.00']},\n",
              "           {'additions': [],\n",
              "            'description': \"Mary's Rotisserie Chicken, Charred Scallions, Radish\",\n",
              "            'entryId': '152530636',\n",
              "            'name': 'Lechon Manok',\n",
              "            'options': [],\n",
              "            'price': '14.00',\n",
              "            'prices': ['14.00']},\n",
              "           {'additions': [],\n",
              "            'description': 'Charred Eggplant, Mushrooms, Seasonal Gulay, Herbs',\n",
              "            'entryId': '134825523',\n",
              "            'name': 'Tortang Talong',\n",
              "            'options': [],\n",
              "            'price': '14.00',\n",
              "            'prices': ['14.00']},\n",
              "           {'additions': [],\n",
              "            'description': 'Crispy Pork head, Peppers, Red Onion',\n",
              "            'entryId': '134825524',\n",
              "            'name': 'Sisig Fried Rice',\n",
              "            'options': [],\n",
              "            'price': '13.00',\n",
              "            'prices': ['13.00']},\n",
              "           {'additions': [],\n",
              "            'description': 'Grilled Pork Rib, Atsara',\n",
              "            'entryId': '134825525',\n",
              "            'name': 'Pinoy Bbq',\n",
              "            'options': [],\n",
              "            'price': '14.00',\n",
              "            'prices': ['14.00']},\n",
              "           {'additions': [],\n",
              "            'description': 'Cripsy Pork Belly, Atsara',\n",
              "            'entryId': '134825526',\n",
              "            'name': 'Lechon Kawali',\n",
              "            'options': [],\n",
              "            'price': '15.00',\n",
              "            'prices': ['15.00']},\n",
              "           {'additions': [],\n",
              "            'description': \"Mary's Rotisserie Chicken, Pickled Fresno\",\n",
              "            'entryId': '171765485',\n",
              "            'name': 'Adobo Fried Rice',\n",
              "            'options': [],\n",
              "            'price': '13.00',\n",
              "            'prices': ['13.00']}]},\n",
              "         'name': 'Rice Bowls',\n",
              "         'sectionId': 's22769536'},\n",
              "        {'description': 'Available at 4pm daily',\n",
              "         'entries': {'count': 5,\n",
              "          'items': [{'additions': [],\n",
              "            'entryId': '171765486',\n",
              "            'name': 'Pinoy Bbq Ribs',\n",
              "            'options': [],\n",
              "            'price': '7.00',\n",
              "            'prices': ['7.00']},\n",
              "           {'additions': [],\n",
              "            'description': 'Spicy Caramel - Fish Sauce',\n",
              "            'entryId': '171765487',\n",
              "            'name': 'Sari Sari Hot Wings',\n",
              "            'options': [],\n",
              "            'price': '6.00',\n",
              "            'prices': ['6.00']},\n",
              "           {'additions': [],\n",
              "            'entryId': '171765488',\n",
              "            'name': 'Adobo Shishito Peppers',\n",
              "            'options': [],\n",
              "            'price': '5.00',\n",
              "            'prices': ['5.00']},\n",
              "           {'additions': [],\n",
              "            'description': 'Crispy Pig Ears, Oyster Mushrooms, Tofu',\n",
              "            'entryId': '171765489',\n",
              "            'name': \"Tokwa't Baboy\",\n",
              "            'options': [],\n",
              "            'price': '6.00',\n",
              "            'prices': ['6.00']},\n",
              "           {'additions': [],\n",
              "            'entryId': '172733216',\n",
              "            'name': 'Bbq Pork Belly Skewers',\n",
              "            'options': [],\n",
              "            'price': '7.00',\n",
              "            'prices': ['7.00']}]},\n",
              "         'name': 'Pulutan! a Filipino Happy Hour',\n",
              "         'sectionId': 's30235044'},\n",
              "        {'entries': {'count': 2,\n",
              "          'items': [{'additions': [],\n",
              "            'description': 'Seasonal Granita, Leche Flan, Fresh Fruit, Coconut Tapioca, Ice Cream',\n",
              "            'entryId': '113612936',\n",
              "            'name': 'Halo-Halo',\n",
              "            'options': [],\n",
              "            'price': '7.00',\n",
              "            'prices': ['7.00']},\n",
              "           {'additions': [],\n",
              "            'description': 'Coconut, Coconut, Coconut',\n",
              "            'entryId': '113612935',\n",
              "            'name': 'Buko Pie',\n",
              "            'options': [],\n",
              "            'price': '7.00',\n",
              "            'prices': ['7.00']}]},\n",
              "         'name': 'Sweets',\n",
              "         'sectionId': 's18654074'},\n",
              "        {'entries': {'count': 4,\n",
              "          'items': [{'additions': [],\n",
              "            'entryId': '134825532',\n",
              "            'name': 'Calamansi Soda',\n",
              "            'options': [],\n",
              "            'price': '4.50',\n",
              "            'prices': ['4.50']},\n",
              "           {'additions': [],\n",
              "            'entryId': '134825533',\n",
              "            'name': 'Seasonal Lemonade',\n",
              "            'options': [],\n",
              "            'price': '4.50',\n",
              "            'prices': ['4.50']},\n",
              "           {'additions': [],\n",
              "            'entryId': '134825534',\n",
              "            'name': 'Buko Juice',\n",
              "            'options': [],\n",
              "            'price': '4.50',\n",
              "            'prices': ['4.50']},\n",
              "           {'additions': [],\n",
              "            'entryId': '134825535',\n",
              "            'name': 'Iced Tea',\n",
              "            'options': [],\n",
              "            'price': '4.50',\n",
              "            'prices': ['4.50']}]},\n",
              "         'name': 'Our Drinks',\n",
              "         'sectionId': 's22769540'},\n",
              "        {'entries': {'count': 4,\n",
              "          'items': [{'additions': [],\n",
              "            'entryId': '134825537',\n",
              "            'name': 'Coke',\n",
              "            'options': [],\n",
              "            'price': '3.50',\n",
              "            'prices': ['3.50']},\n",
              "           {'additions': [],\n",
              "            'entryId': '134825538',\n",
              "            'name': 'Diet Coke',\n",
              "            'options': [],\n",
              "            'price': '3.50',\n",
              "            'prices': ['3.50']},\n",
              "           {'additions': [],\n",
              "            'entryId': '134825539',\n",
              "            'name': 'Sprite',\n",
              "            'options': [],\n",
              "            'price': '3.50',\n",
              "            'prices': ['3.50']},\n",
              "           {'additions': [],\n",
              "            'entryId': '153515512',\n",
              "            'name': 'Rotating Draft & Bottled Beer',\n",
              "            'options': [],\n",
              "            'prices': []}]},\n",
              "         'name': 'Their Drinks',\n",
              "         'sectionId': 's22769541'},\n",
              "        {'entries': {'count': 1,\n",
              "          'items': [{'additions': [],\n",
              "            'entryId': '152530639',\n",
              "            'name': 'Hot Or Iced Coffee',\n",
              "            'options': [],\n",
              "            'price': '3.50',\n",
              "            'prices': ['3.50']}]},\n",
              "         'name': 'Kape',\n",
              "         'sectionId': 's26277171'},\n",
              "        {'entries': {'count': 1,\n",
              "          'items': [{'additions': [],\n",
              "            'description': 'A 4% service charge will be added to each guest check to ensure competitive industry compensation, as well as health and medical benefits, for all of our valued full time team members. In support of this initiative, the entirety of the charge is retained by the company. If you would like this charge removed, please let our staff know. Thank you for dining with us and supporting our staff.',\n",
              "            'entryId': '164203262',\n",
              "            'name': 'Note',\n",
              "            'options': [],\n",
              "            'prices': []}]},\n",
              "         'name': 'From Our Team',\n",
              "         'sectionId': 's28636050'}]},\n",
              "      'menuId': 'myreixq7mg4igwjxxrckskghs',\n",
              "      'name': 'Menu'}]},\n",
              "   'provider': {'attributionImage': 'https://as.singleplatform.com/Foursquare/sari-sari-store/provided_by.png',\n",
              "    'attributionLink': 'http://w.singlepage.com/sari-sari-store/menu?ref=Foursquare',\n",
              "    'attributionText': 'Disclaimer: Always check with the business for pricing and availability of menu items. SinglePlatform is not responsible for menu or pricing changes, but the information is believed to be accurate when posted. Listing of a menu does not mean that there is any affiliation, endorsement or sponsorship between SinglePlatform and the listed business.',\n",
              "    'name': 'singleplatform'}}}}"
            ]
          },
          "metadata": {
            "tags": []
          },
          "execution_count": 56
        }
      ]
    }
  ]
}