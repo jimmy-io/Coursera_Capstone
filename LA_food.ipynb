{
  "nbformat": 4,
  "nbformat_minor": 0,
  "metadata": {
    "colab": {
      "name": "LA_food.ipynb",
      "provenance": [],
      "collapsed_sections": [],
      "mount_file_id": "1TCGKYWyAh3Ug54n_BA9_3qwaFxV1-e27",
      "authorship_tag": "ABX9TyMJQBSoEayz3LHQ3hgj61Sx",
      "include_colab_link": true
    },
    "kernelspec": {
      "name": "python3",
      "display_name": "Python 3"
    },
    "accelerator": "TPU"
  },
  "cells": [
    {
      "cell_type": "markdown",
      "metadata": {
        "id": "view-in-github",
        "colab_type": "text"
      },
      "source": [
        "<a href=\"https://colab.research.google.com/github/jimmy-io/Coursera_Capstone/blob/master/LA_food.ipynb\" target=\"_parent\"><img src=\"https://colab.research.google.com/assets/colab-badge.svg\" alt=\"Open In Colab\"/></a>"
      ]
    },
    {
      "cell_type": "markdown",
      "metadata": {
        "id": "TjEBib9SuQ3L",
        "colab_type": "text"
      },
      "source": [
        "# Data Science Capstone Project\n",
        "\n",
        "## Jimmy J.\n",
        "\n",
        "### Introduction\n",
        "Frank Lloyd Wright said it best - “Tip the world over on its side and everything loose will land in Los Angeles.\" For decades people from all over the world have come to this city in search of home, family, love, fame, and fortune. Los Angeles welcomes this multicultural migration with a suburban sprawl that encompases over 88 cities, and even more unincorporated neihborhoods. Each of these neighborhoods are characterized by geographical, economic, and cultural features that make them uniquely poised to cater to different demographics.\n",
        "Neighborhoods like Downtown Los Angeles, Culver City, Long Beach, Century City, and West Hollywood provide a mixture of urban style living and accessibility to grocery stores, malls, means of public transportation and entertainment venues within walking distance. On the otherhand suburbs like Baldwin Hills, Crenshaw, Echo Park and Boyle Heights are quiter neighborhoods with single family dwellings that are not easily accessible via public modes of transportation.\n",
        "Given the vast spectrum of possibilites of neighborhoods to choose from in LA, someone looking to move here might be overwhelmed. In this project I've attempted to characterize neighborhoods in LA by the nature of venue that are in their immediate vicinities using a clustering algorithm. Results from this analysis show that neighborhoods in LA fall under a few groups, defined by the nature of the venues closest to them. This is of most interest to rental unit searching apps like Westiside Rentals or Rentpad, to real estate agents, and generally, to people looking to move to LA. The results of this project can help them find neighborhoods that are most aligned with what they are looking for in a place to live and overall, provide a more satisfactory experience than chosing a neighborhood at random."
      ]
    },
    {
      "cell_type": "markdown",
      "metadata": {
        "id": "vMvG3bNju2iV",
        "colab_type": "text"
      },
      "source": [
        "### Data\n",
        "The list of neighborhoods in Los Angeles was web scraped from Wikipedia using BeautifulSoup. The names of these neigborhoods were then fed into Nominatim to obtain their geographical coordinates.\n",
        "The venues in the vicinity of these neighborhoods will be retreived using the FourSquare API search engine. Venues of five different categories were chosen: Travel & Transport, Arts & Entertainment, Outdoors & Recreation, Nightlife Spot, and Food. The number of venues of each category for each neighborhood was counted and then normalized to give five parameters with which to cluster the neighborhoods by."
      ]
    },
    {
      "cell_type": "code",
      "metadata": {
        "id": "Oy79yTs5uDK4",
        "colab_type": "code",
        "colab": {}
      },
      "source": [
        "### Importing libraries \n",
        "\n",
        "import numpy as np # library to handle data in a vectorized manner\n",
        "import pandas as pd # library for data analsysis\n",
        "import re\n",
        "import json # library to handle JSON files\n",
        "#!conda install -c conda-forge geopy --yes # uncomment this line if you haven't completed the Foursquare API lab\n",
        "from geopy.geocoders import Nominatim # convert an address into latitude and longitude values\n",
        "import requests # library to handle requests\n",
        "from pandas.io.json import json_normalize # tranform JSON file into a pandas dataframe\n",
        "# Matplotlib and associated plotting modules\n",
        "import matplotlib.cm as cm\n",
        "import matplotlib.colors as colors\n",
        "# import k-means from clustering stage\n",
        "from sklearn.cluster import KMeans\n",
        "#!conda install -c conda-forge folium --yes # uncomment this line if you haven't completed the Foursquare API lab\n",
        "import folium # map rendering library\n",
        "import bs4 as bs\n",
        "import urllib.request\n",
        "import requests\n",
        "import collections\n",
        "import csv"
      ],
      "execution_count": 0,
      "outputs": []
    },
    {
      "cell_type": "code",
      "metadata": {
        "id": "DKLhbytOxlBz",
        "colab_type": "code",
        "outputId": "daceb40c-c41b-422c-fce5-1057b876991e",
        "colab": {
          "base_uri": "https://localhost:8080/",
          "height": 34
        }
      },
      "source": [
        "#@hidden_cell\n",
        "\n",
        "CLIENT_ID = 'JS0P2BHNS4GICN4OT1LRM03JV0OLTO4QWS0I5AEITRLVI3QU' # your Foursquare ID\n",
        "CLIENT_SECRET = 'KGFP21SEFHLUXM2EPAI4HDLQOAI21MC1CY24RJ4AII4UX2Q3' # your Foursquare Secret\n",
        "VERSION = '20180605' # Foursquare API version\n",
        "\n",
        "print('Your credentails: hidden')"
      ],
      "execution_count": 2,
      "outputs": [
        {
          "output_type": "stream",
          "text": [
            "Your credentails: hidden\n"
          ],
          "name": "stdout"
        }
      ]
    },
    {
      "cell_type": "code",
      "metadata": {
        "id": "hI6DS0lw2HBS",
        "colab_type": "code",
        "outputId": "db13bfb0-dbab-475e-f324-d4f02e14a40c",
        "colab": {
          "base_uri": "https://localhost:8080/",
          "height": 34
        }
      },
      "source": [
        "# Retreiving the coordinates for Los Angeles \n",
        "\n",
        "address = 'Los Angeles, CA'\n",
        "\n",
        "geolocator = Nominatim(user_agent=\"LA_explorer\")\n",
        "location = geolocator.geocode(address)\n",
        "LAlatitude = location.latitude\n",
        "LAlongitude = location.longitude\n",
        "print('The geograpical coordinate of Los Angeles are {}, {}.'.format(LAlatitude, LAlongitude))"
      ],
      "execution_count": 31,
      "outputs": [
        {
          "output_type": "stream",
          "text": [
            "The geograpical coordinate of Los Angeles are 34.0536909, -118.2427666.\n"
          ],
          "name": "stdout"
        }
      ]
    },
    {
      "cell_type": "code",
      "metadata": {
        "colab_type": "code",
        "outputId": "f1b5c109-7925-44f5-8112-223035ff9164",
        "id": "XU33WXUB2t5d",
        "colab": {
          "base_uri": "https://localhost:8080/",
          "height": 34
        }
      },
      "source": [
        "## Categories and IDs from FourSquare API\n",
        "\n",
        "catIds={}\n",
        "catIds={\n",
        "        'Food':'4d4b7105d754a06374d81259',\n",
        " \n",
        "       }\n",
        "catIds"
      ],
      "execution_count": 12,
      "outputs": [
        {
          "output_type": "execute_result",
          "data": {
            "text/plain": [
              "{'Food': '4d4b7105d754a06374d81259'}"
            ]
          },
          "metadata": {
            "tags": []
          },
          "execution_count": 12
        }
      ]
    },
    {
      "cell_type": "code",
      "metadata": {
        "id": "7HNUiau53oJt",
        "colab_type": "code",
        "outputId": "d6573a48-5503-4a47-c388-7e058a5ae757",
        "colab": {
          "base_uri": "https://localhost:8080/",
          "height": 51
        }
      },
      "source": [
        "for key in catIds:\n",
        "    print(key)\n",
        "    print(catIds[key])"
      ],
      "execution_count": 33,
      "outputs": [
        {
          "output_type": "stream",
          "text": [
            "Food\n",
            "4d4b7105d754a06374d81259\n"
          ],
          "name": "stdout"
        }
      ]
    },
    {
      "cell_type": "code",
      "metadata": {
        "id": "mSO8LhIr3sqU",
        "colab_type": "code",
        "colab": {}
      },
      "source": [
        "### Foursqaure API\n",
        "venues_list=[]\n",
        "LIMIT = 10000 # limit of number of venues returned by Foursquare API\n",
        "radius = 10000 # define radius\n",
        "categoryId='4d4b7105d754a06374d81259'\n",
        "url = 'https://api.foursquare.com/v2/venues/explore?&client_id={}&client_secret={}&v={}&ll={},{}&radius={}&categoryId={}&limit={}'.format(CLIENT_ID, \n",
        "                                                                                                                                              CLIENT_SECRET, \n",
        "                                                                                                                                              VERSION, \n",
        "                                                                                                                                              LAlatitude,\n",
        "                                                                                                                                              LAlongitude, \n",
        "                                                                                                                                              radius,\n",
        "                                                                                                                                              categoryId,\n",
        "                                                                                                                                              LIMIT)\n",
        "            \n",
        "    # make the GET request\n",
        "            \n",
        "results = requests.get(url).json()[\"response\"]['groups'][0]['items']\n",
        "        \n",
        "        \n",
        "    # return only relevant information for each nearby venue\n",
        "venues_list.append([(v['venue']['name'], \n",
        "                      v['venue']['location']['lat'], \n",
        "                      v['venue']['location']['lng'],  \n",
        "                      v['venue']['categories'][0]['name']) for v in results])\n",
        "            \n",
        "nearby_venues = pd.DataFrame([item for venue_list in venues_list for item in venue_list])\n",
        "nearby_venues.columns = ['Venue', \n",
        "                          'Venue Latitude', \n",
        "                          'Venue Longitude', \n",
        "                          'Venue Category']\n",
        "        \n",
        "\n"
      ],
      "execution_count": 0,
      "outputs": []
    },
    {
      "cell_type": "code",
      "metadata": {
        "id": "nAJPkDkC9rrd",
        "colab_type": "code",
        "outputId": "e3264731-5c25-474a-8633-e26b5297902d",
        "colab": {
          "base_uri": "https://localhost:8080/",
          "height": 419
        }
      },
      "source": [
        "nearby_venues"
      ],
      "execution_count": 48,
      "outputs": [
        {
          "output_type": "execute_result",
          "data": {
            "text/html": [
              "<div>\n",
              "<style scoped>\n",
              "    .dataframe tbody tr th:only-of-type {\n",
              "        vertical-align: middle;\n",
              "    }\n",
              "\n",
              "    .dataframe tbody tr th {\n",
              "        vertical-align: top;\n",
              "    }\n",
              "\n",
              "    .dataframe thead th {\n",
              "        text-align: right;\n",
              "    }\n",
              "</style>\n",
              "<table border=\"1\" class=\"dataframe\">\n",
              "  <thead>\n",
              "    <tr style=\"text-align: right;\">\n",
              "      <th></th>\n",
              "      <th>Venue</th>\n",
              "      <th>Venue Latitude</th>\n",
              "      <th>Venue Longitude</th>\n",
              "      <th>Venue Category</th>\n",
              "    </tr>\n",
              "  </thead>\n",
              "  <tbody>\n",
              "    <tr>\n",
              "      <th>0</th>\n",
              "      <td>Redbird</td>\n",
              "      <td>34.050666</td>\n",
              "      <td>-118.244068</td>\n",
              "      <td>American Restaurant</td>\n",
              "    </tr>\n",
              "    <tr>\n",
              "      <th>1</th>\n",
              "      <td>Marugame Monzo</td>\n",
              "      <td>34.049807</td>\n",
              "      <td>-118.240202</td>\n",
              "      <td>Udon Restaurant</td>\n",
              "    </tr>\n",
              "    <tr>\n",
              "      <th>2</th>\n",
              "      <td>KazuNori: The Original Hand Roll Bar</td>\n",
              "      <td>34.047716</td>\n",
              "      <td>-118.247452</td>\n",
              "      <td>Sushi Restaurant</td>\n",
              "    </tr>\n",
              "    <tr>\n",
              "      <th>3</th>\n",
              "      <td>Sari Sari Store LA</td>\n",
              "      <td>34.051065</td>\n",
              "      <td>-118.249390</td>\n",
              "      <td>Filipino Restaurant</td>\n",
              "    </tr>\n",
              "    <tr>\n",
              "      <th>4</th>\n",
              "      <td>Café Dulcé</td>\n",
              "      <td>34.048869</td>\n",
              "      <td>-118.240508</td>\n",
              "      <td>Bakery</td>\n",
              "    </tr>\n",
              "    <tr>\n",
              "      <th>...</th>\n",
              "      <td>...</td>\n",
              "      <td>...</td>\n",
              "      <td>...</td>\n",
              "      <td>...</td>\n",
              "    </tr>\n",
              "    <tr>\n",
              "      <th>95</th>\n",
              "      <td>Kang Ho Dong Baek Jeong</td>\n",
              "      <td>34.063828</td>\n",
              "      <td>-118.297364</td>\n",
              "      <td>Korean Restaurant</td>\n",
              "    </tr>\n",
              "    <tr>\n",
              "      <th>96</th>\n",
              "      <td>Ham Ji Park</td>\n",
              "      <td>34.063633</td>\n",
              "      <td>-118.295838</td>\n",
              "      <td>Korean Restaurant</td>\n",
              "    </tr>\n",
              "    <tr>\n",
              "      <th>97</th>\n",
              "      <td>California Donuts</td>\n",
              "      <td>34.068965</td>\n",
              "      <td>-118.293116</td>\n",
              "      <td>Donut Shop</td>\n",
              "    </tr>\n",
              "    <tr>\n",
              "      <th>98</th>\n",
              "      <td>Night + Market Song</td>\n",
              "      <td>34.086948</td>\n",
              "      <td>-118.275748</td>\n",
              "      <td>Thai Restaurant</td>\n",
              "    </tr>\n",
              "    <tr>\n",
              "      <th>99</th>\n",
              "      <td>L&amp;E Oyster Bar</td>\n",
              "      <td>34.088999</td>\n",
              "      <td>-118.268882</td>\n",
              "      <td>Seafood Restaurant</td>\n",
              "    </tr>\n",
              "  </tbody>\n",
              "</table>\n",
              "<p>100 rows × 4 columns</p>\n",
              "</div>"
            ],
            "text/plain": [
              "                                   Venue  ...       Venue Category\n",
              "0                                Redbird  ...  American Restaurant\n",
              "1                         Marugame Monzo  ...      Udon Restaurant\n",
              "2   KazuNori: The Original Hand Roll Bar  ...     Sushi Restaurant\n",
              "3                     Sari Sari Store LA  ...  Filipino Restaurant\n",
              "4                             Café Dulcé  ...               Bakery\n",
              "..                                   ...  ...                  ...\n",
              "95               Kang Ho Dong Baek Jeong  ...    Korean Restaurant\n",
              "96                           Ham Ji Park  ...    Korean Restaurant\n",
              "97                     California Donuts  ...           Donut Shop\n",
              "98                   Night + Market Song  ...      Thai Restaurant\n",
              "99                        L&E Oyster Bar  ...   Seafood Restaurant\n",
              "\n",
              "[100 rows x 4 columns]"
            ]
          },
          "metadata": {
            "tags": []
          },
          "execution_count": 48
        }
      ]
    },
    {
      "cell_type": "code",
      "metadata": {
        "id": "7siN9ZNs9t9l",
        "colab_type": "code",
        "outputId": "af2cbf9e-5d9b-4c23-afa0-5fa0d8385ffc",
        "colab": {
          "base_uri": "https://localhost:8080/",
          "height": 34
        }
      },
      "source": [
        "venues_dict['Food'].shape"
      ],
      "execution_count": 18,
      "outputs": [
        {
          "output_type": "execute_result",
          "data": {
            "text/plain": [
              "(3310, 7)"
            ]
          },
          "metadata": {
            "tags": []
          },
          "execution_count": 18
        }
      ]
    },
    {
      "cell_type": "code",
      "metadata": {
        "id": "v-vyY20e91em",
        "colab_type": "code",
        "colab": {}
      },
      "source": [
        "## Saving the nearby venues data as a csv to avoid repeated API calls \n",
        "\n",
        "for key in venues_dict:\n",
        "    key1=re.sub('[^A-Za-z0-9&]+ ', '', key)\n",
        "    key1=re.sub('\\W+','', key1)\n",
        "    venues_dict[key].to_csv('/content/drive/My Drive/IBM Capstone/'+'LA_'+str(key1)+\".csv\")"
      ],
      "execution_count": 0,
      "outputs": []
    },
    {
      "cell_type": "code",
      "metadata": {
        "id": "hVahgXpX98b-",
        "colab_type": "code",
        "colab": {}
      },
      "source": [
        "## Reading the nearby venues data as a csv\n",
        "LA_VENUES={}\n",
        "for key in catIds:\n",
        "    key1=re.sub('[^A-Za-z0-9&]+ ', '', key)\n",
        "    key1=re.sub('\\W+','', key1)\n",
        "    LA_VENUES[key]=pd.read_csv('/content/drive/My Drive/IBM Capstone/'+'LA_'+str(key1)+'.csv')\n",
        "    LA_VENUES[key].dropna(inplace = True)\n",
        "    LA_VENUES[key].drop(columns = ['Unnamed: 0'], inplace = True)"
      ],
      "execution_count": 0,
      "outputs": []
    },
    {
      "cell_type": "code",
      "metadata": {
        "id": "F7G3ApVC-LWB",
        "colab_type": "code",
        "outputId": "746ccfe8-ee7b-4407-905d-272bc34fd717",
        "colab": {
          "base_uri": "https://localhost:8080/",
          "height": 51
        }
      },
      "source": [
        "for key in LA_VENUES:\n",
        "    print(key)\n",
        "    print(LA_VENUES[key].shape)"
      ],
      "execution_count": 14,
      "outputs": [
        {
          "output_type": "stream",
          "text": [
            "Food\n",
            "(3310, 7)\n"
          ],
          "name": "stdout"
        }
      ]
    },
    {
      "cell_type": "code",
      "metadata": {
        "id": "qVm-LKaTnaBv",
        "colab_type": "code",
        "outputId": "4cecc041-ff9a-4fa0-e8ae-e449e321f05c",
        "colab": {
          "base_uri": "https://localhost:8080/",
          "height": 204
        }
      },
      "source": [
        "LA_VENUES['Food'].head()"
      ],
      "execution_count": 15,
      "outputs": [
        {
          "output_type": "execute_result",
          "data": {
            "text/html": [
              "<div>\n",
              "<style scoped>\n",
              "    .dataframe tbody tr th:only-of-type {\n",
              "        vertical-align: middle;\n",
              "    }\n",
              "\n",
              "    .dataframe tbody tr th {\n",
              "        vertical-align: top;\n",
              "    }\n",
              "\n",
              "    .dataframe thead th {\n",
              "        text-align: right;\n",
              "    }\n",
              "</style>\n",
              "<table border=\"1\" class=\"dataframe\">\n",
              "  <thead>\n",
              "    <tr style=\"text-align: right;\">\n",
              "      <th></th>\n",
              "      <th>Neighborhood</th>\n",
              "      <th>Neighborhood Latitude</th>\n",
              "      <th>Neighborhood Longitude</th>\n",
              "      <th>Venue</th>\n",
              "      <th>Venue Latitude</th>\n",
              "      <th>Venue Longitude</th>\n",
              "      <th>Venue Category</th>\n",
              "    </tr>\n",
              "  </thead>\n",
              "  <tbody>\n",
              "    <tr>\n",
              "      <th>0</th>\n",
              "      <td>Adams-Normandie</td>\n",
              "      <td>34.015951</td>\n",
              "      <td>-118.283513</td>\n",
              "      <td>Figueroa Philly Cheese Steak</td>\n",
              "      <td>34.014254</td>\n",
              "      <td>-118.282527</td>\n",
              "      <td>Sandwich Place</td>\n",
              "    </tr>\n",
              "    <tr>\n",
              "      <th>1</th>\n",
              "      <td>Adams-Normandie</td>\n",
              "      <td>34.015951</td>\n",
              "      <td>-118.283513</td>\n",
              "      <td>Chick-fil-A</td>\n",
              "      <td>34.016633</td>\n",
              "      <td>-118.282575</td>\n",
              "      <td>Fast Food Restaurant</td>\n",
              "    </tr>\n",
              "    <tr>\n",
              "      <th>2</th>\n",
              "      <td>Adams-Normandie</td>\n",
              "      <td>34.015951</td>\n",
              "      <td>-118.283513</td>\n",
              "      <td>Chipotle Mexican Grill</td>\n",
              "      <td>34.016956</td>\n",
              "      <td>-118.282584</td>\n",
              "      <td>Mexican Restaurant</td>\n",
              "    </tr>\n",
              "    <tr>\n",
              "      <th>3</th>\n",
              "      <td>Adams-Normandie</td>\n",
              "      <td>34.015951</td>\n",
              "      <td>-118.283513</td>\n",
              "      <td>Pizza Studio</td>\n",
              "      <td>34.018569</td>\n",
              "      <td>-118.281668</td>\n",
              "      <td>Pizza Place</td>\n",
              "    </tr>\n",
              "    <tr>\n",
              "      <th>4</th>\n",
              "      <td>Adams-Normandie</td>\n",
              "      <td>34.015951</td>\n",
              "      <td>-118.283513</td>\n",
              "      <td>Holbox</td>\n",
              "      <td>34.017515</td>\n",
              "      <td>-118.278439</td>\n",
              "      <td>Seafood Restaurant</td>\n",
              "    </tr>\n",
              "  </tbody>\n",
              "</table>\n",
              "</div>"
            ],
            "text/plain": [
              "      Neighborhood  ...        Venue Category\n",
              "0  Adams-Normandie  ...        Sandwich Place\n",
              "1  Adams-Normandie  ...  Fast Food Restaurant\n",
              "2  Adams-Normandie  ...    Mexican Restaurant\n",
              "3  Adams-Normandie  ...           Pizza Place\n",
              "4  Adams-Normandie  ...    Seafood Restaurant\n",
              "\n",
              "[5 rows x 7 columns]"
            ]
          },
          "metadata": {
            "tags": []
          },
          "execution_count": 15
        }
      ]
    },
    {
      "cell_type": "code",
      "metadata": {
        "id": "v7nrP3U3TI_c",
        "colab_type": "code",
        "colab": {}
      },
      "source": [
        "def get_superset_of_column_names_from_file(json_file_path):\n",
        "    \"\"\"Read in the json dataset file and return the superset of column names.\"\"\"\n",
        "    column_names = set()\n",
        "    with open(json_file_path) as fin:\n",
        "        for line in fin:\n",
        "            line_contents = json.loads(line)\n",
        "            column_names.update(\n",
        "                    set(get_column_names(line_contents).keys())\n",
        "                    )\n",
        "    return column_names\n",
        "def get_column_names(line_contents, parent_key=''):\n",
        "    \"\"\"Return a list of flattened key names given a dict.\n",
        "    Example:\n",
        "        line_contents = {\n",
        "            'a': {\n",
        "                'b': 2,\n",
        "                'c': 3,\n",
        "                },\n",
        "        }\n",
        "        will return: ['a.b', 'a.c']\n",
        "    These will be the column names for the eventual csv file.\n",
        "    \"\"\"\n",
        "    column_names = []\n",
        "    for k, v in line_contents.items():\n",
        "        column_name = \"{0}.{1}\".format(parent_key, k) if parent_key else k\n",
        "        if isinstance(v, collections.MutableMapping):\n",
        "            column_names.extend(\n",
        "                    get_column_names(v, column_name).items()\n",
        "                    )\n",
        "        else:\n",
        "            column_names.append((column_name, v))\n",
        "    return dict(column_names)\n",
        "\n",
        "column_names = get_superset_of_column_names_from_file('/content/drive/My Drive/IBM Capstone/yelp_academic_dataset_business.json')"
      ],
      "execution_count": 0,
      "outputs": []
    },
    {
      "cell_type": "code",
      "metadata": {
        "id": "-chGmbNJk4s1",
        "colab_type": "code",
        "colab": {
          "base_uri": "https://localhost:8080/",
          "height": 255
        },
        "outputId": "d55b2ac3-ea88-4676-a08b-1707be224e7f"
      },
      "source": [
        " def read_and_write_file(json_file_path, csv_file_path, column_names):\n",
        "    \"\"\"Read in the json dataset file and write it out to a csv file, given the column names.\"\"\"\n",
        "    with open(csv_file_path, 'w') as fout:\n",
        "        csv_file = csv.writer(fout)\n",
        "        csv_file.writerow(list(column_names))\n",
        "        with open(json_file_path) as fin:\n",
        "            for line in fin:\n",
        "                line_contents = json.loads(line)\n",
        "                csv_file.writerow(get_row(line_contents, column_names))\n",
        "\n",
        " read_and_write_file('/content/drive/My Drive/IBM Capstone/yelp_academic_dataset_business.json' , '/content/drive/My Drive/IBM Capstone/yelp_academic_dataset_business.csv' , column_names)"
      ],
      "execution_count": 66,
      "outputs": [
        {
          "output_type": "error",
          "ename": "TypeError",
          "evalue": "ignored",
          "traceback": [
            "\u001b[0;31m---------------------------------------------------------------------------\u001b[0m",
            "\u001b[0;31mTypeError\u001b[0m                                 Traceback (most recent call last)",
            "\u001b[0;32m<ipython-input-66-406ef29bb960>\u001b[0m in \u001b[0;36m<module>\u001b[0;34m()\u001b[0m\n\u001b[1;32m      9\u001b[0m                \u001b[0mcsv_file\u001b[0m\u001b[0;34m.\u001b[0m\u001b[0mwriterow\u001b[0m\u001b[0;34m(\u001b[0m\u001b[0mget_row\u001b[0m\u001b[0;34m(\u001b[0m\u001b[0mline_contents\u001b[0m\u001b[0;34m,\u001b[0m \u001b[0mcolumn_names\u001b[0m\u001b[0;34m)\u001b[0m\u001b[0;34m)\u001b[0m\u001b[0;34m\u001b[0m\u001b[0;34m\u001b[0m\u001b[0m\n\u001b[1;32m     10\u001b[0m \u001b[0;34m\u001b[0m\u001b[0m\n\u001b[0;32m---> 11\u001b[0;31m \u001b[0mread_and_write_file\u001b[0m\u001b[0;34m(\u001b[0m\u001b[0;34m'/content/drive/My Drive/IBM Capstone/yelp_academic_dataset_business.json'\u001b[0m \u001b[0;34m,\u001b[0m \u001b[0;34m'/content/drive/My Drive/IBM Capstone/yelp_academic_dataset_business.csv'\u001b[0m \u001b[0;34m,\u001b[0m \u001b[0mcolumn_names\u001b[0m\u001b[0;34m)\u001b[0m\u001b[0;34m\u001b[0m\u001b[0;34m\u001b[0m\u001b[0m\n\u001b[0m",
            "\u001b[0;32m<ipython-input-66-406ef29bb960>\u001b[0m in \u001b[0;36mread_and_write_file\u001b[0;34m(json_file_path, csv_file_path, column_names)\u001b[0m\n\u001b[1;32m      7\u001b[0m            \u001b[0;32mfor\u001b[0m \u001b[0mline\u001b[0m \u001b[0;32min\u001b[0m \u001b[0mfin\u001b[0m\u001b[0;34m:\u001b[0m\u001b[0;34m\u001b[0m\u001b[0;34m\u001b[0m\u001b[0m\n\u001b[1;32m      8\u001b[0m                \u001b[0mline_contents\u001b[0m \u001b[0;34m=\u001b[0m \u001b[0mjson\u001b[0m\u001b[0;34m.\u001b[0m\u001b[0mloads\u001b[0m\u001b[0;34m(\u001b[0m\u001b[0mline\u001b[0m\u001b[0;34m)\u001b[0m\u001b[0;34m\u001b[0m\u001b[0;34m\u001b[0m\u001b[0m\n\u001b[0;32m----> 9\u001b[0;31m                \u001b[0mcsv_file\u001b[0m\u001b[0;34m.\u001b[0m\u001b[0mwriterow\u001b[0m\u001b[0;34m(\u001b[0m\u001b[0mget_row\u001b[0m\u001b[0;34m(\u001b[0m\u001b[0mline_contents\u001b[0m\u001b[0;34m,\u001b[0m \u001b[0mcolumn_names\u001b[0m\u001b[0;34m)\u001b[0m\u001b[0;34m)\u001b[0m\u001b[0;34m\u001b[0m\u001b[0;34m\u001b[0m\u001b[0m\n\u001b[0m\u001b[1;32m     10\u001b[0m \u001b[0;34m\u001b[0m\u001b[0m\n\u001b[1;32m     11\u001b[0m \u001b[0mread_and_write_file\u001b[0m\u001b[0;34m(\u001b[0m\u001b[0;34m'/content/drive/My Drive/IBM Capstone/yelp_academic_dataset_business.json'\u001b[0m \u001b[0;34m,\u001b[0m \u001b[0;34m'/content/drive/My Drive/IBM Capstone/yelp_academic_dataset_business.csv'\u001b[0m \u001b[0;34m,\u001b[0m \u001b[0mcolumn_names\u001b[0m\u001b[0;34m)\u001b[0m\u001b[0;34m\u001b[0m\u001b[0;34m\u001b[0m\u001b[0m\n",
            "\u001b[0;32m/content/drive/My Drive/IBM Capstone/json_to_csv_converter.py\u001b[0m in \u001b[0;36mget_row\u001b[0;34m(line_contents, column_names)\u001b[0m\n",
            "\u001b[0;32m/content/drive/My Drive/IBM Capstone/json_to_csv_converter.py\u001b[0m in \u001b[0;36mget_nested_value\u001b[0;34m(d, key)\u001b[0m\n",
            "\u001b[0;32m/content/drive/My Drive/IBM Capstone/json_to_csv_converter.py\u001b[0m in \u001b[0;36mget_nested_value\u001b[0;34m(d, key)\u001b[0m\n",
            "\u001b[0;31mTypeError\u001b[0m: argument of type 'NoneType' is not iterable"
          ]
        }
      ]
    }
  ]
}