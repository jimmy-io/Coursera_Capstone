{
  "nbformat": 4,
  "nbformat_minor": 0,
  "metadata": {
    "colab": {
      "name": "LA_food.ipynb",
      "provenance": [],
      "collapsed_sections": [],
      "mount_file_id": "1TCGKYWyAh3Ug54n_BA9_3qwaFxV1-e27",
      "authorship_tag": "ABX9TyMWCV9nDDi/rNzqAZzNqxOh",
      "include_colab_link": true
    },
    "kernelspec": {
      "name": "python3",
      "display_name": "Python 3"
    },
    "accelerator": "TPU"
  },
  "cells": [
    {
      "cell_type": "markdown",
      "metadata": {
        "id": "view-in-github",
        "colab_type": "text"
      },
      "source": [
        "<a href=\"https://colab.research.google.com/github/jimmy-io/Coursera_Capstone/blob/master/LA_food.ipynb\" target=\"_parent\"><img src=\"https://colab.research.google.com/assets/colab-badge.svg\" alt=\"Open In Colab\"/></a>"
      ]
    },
    {
      "cell_type": "markdown",
      "metadata": {
        "id": "TjEBib9SuQ3L",
        "colab_type": "text"
      },
      "source": [
        "# Data Science Capstone Project\n",
        "\n",
        "## Jimmy J.\n",
        "\n",
        "### Introduction\n",
        "Frank Lloyd Wright said it best - “Tip the world over on its side and everything loose will land in Los Angeles.\" For decades people from all over the world have come to this city in search of home, family, love, fame, and fortune. Los Angeles welcomes this multicultural migration with a suburban sprawl that encompases over 88 cities, and even more unincorporated neihborhoods. Each of these neighborhoods are characterized by geographical, economic, and cultural features that make them uniquely poised to cater to different demographics.\n",
        "Neighborhoods like Downtown Los Angeles, Culver City, Long Beach, Century City, and West Hollywood provide a mixture of urban style living and accessibility to grocery stores, malls, means of public transportation and entertainment venues within walking distance. On the otherhand suburbs like Baldwin Hills, Crenshaw, Echo Park and Boyle Heights are quiter neighborhoods with single family dwellings that are not easily accessible via public modes of transportation.\n",
        "Given the vast spectrum of possibilites of neighborhoods to choose from in LA, someone looking to move here might be overwhelmed. In this project I've attempted to characterize neighborhoods in LA by the nature of venue that are in their immediate vicinities using a clustering algorithm. Results from this analysis show that neighborhoods in LA fall under a few groups, defined by the nature of the venues closest to them. This is of most interest to rental unit searching apps like Westiside Rentals or Rentpad, to real estate agents, and generally, to people looking to move to LA. The results of this project can help them find neighborhoods that are most aligned with what they are looking for in a place to live and overall, provide a more satisfactory experience than chosing a neighborhood at random."
      ]
    },
    {
      "cell_type": "markdown",
      "metadata": {
        "id": "vMvG3bNju2iV",
        "colab_type": "text"
      },
      "source": [
        "### Data\n",
        "The list of neighborhoods in Los Angeles was web scraped from Wikipedia using BeautifulSoup. The names of these neigborhoods were then fed into Nominatim to obtain their geographical coordinates.\n",
        "The venues in the vicinity of these neighborhoods will be retreived using the FourSquare API search engine. Venues of five different categories were chosen: Travel & Transport, Arts & Entertainment, Outdoors & Recreation, Nightlife Spot, and Food. The number of venues of each category for each neighborhood was counted and then normalized to give five parameters with which to cluster the neighborhoods by."
      ]
    },
    {
      "cell_type": "code",
      "metadata": {
        "id": "Oy79yTs5uDK4",
        "colab_type": "code",
        "colab": {}
      },
      "source": [
        "### Importing libraries \n",
        "\n",
        "import numpy as np # library to handle data in a vectorized manner\n",
        "import pandas as pd # library for data analsysis\n",
        "import re\n",
        "import json # library to handle JSON files\n",
        "#!conda install -c conda-forge geopy --yes # uncomment this line if you haven't completed the Foursquare API lab\n",
        "from geopy.geocoders import Nominatim # convert an address into latitude and longitude values\n",
        "import requests # library to handle requests\n",
        "from pandas.io.json import json_normalize # tranform JSON file into a pandas dataframe\n",
        "# Matplotlib and associated plotting modules\n",
        "import matplotlib.cm as cm\n",
        "import matplotlib.colors as colors\n",
        "# import k-means from clustering stage\n",
        "from sklearn.cluster import KMeans\n",
        "#!conda install -c conda-forge folium --yes # uncomment this line if you haven't completed the Foursquare API lab\n",
        "import folium # map rendering library\n",
        "import bs4 as bs\n",
        "import urllib.request\n",
        "import requests\n",
        "import collections\n",
        "import csv"
      ],
      "execution_count": 0,
      "outputs": []
    },
    {
      "cell_type": "code",
      "metadata": {
        "id": "DKLhbytOxlBz",
        "colab_type": "code",
        "outputId": "c9e584f7-0ca9-49cc-8f1c-7ab713ca8cc4",
        "colab": {
          "base_uri": "https://localhost:8080/",
          "height": 34
        }
      },
      "source": [
        "#@hidden_cell\n",
        "\n",
        "CLIENT_ID = 'JS0P2BHNS4GICN4OT1LRM03JV0OLTO4QWS0I5AEITRLVI3QU' # your Foursquare ID\n",
        "CLIENT_SECRET = 'KGFP21SEFHLUXM2EPAI4HDLQOAI21MC1CY24RJ4AII4UX2Q3' # your Foursquare Secret\n",
        "VERSION = '20180605' # Foursquare API version\n",
        "\n",
        "print('Your credentails: hidden')"
      ],
      "execution_count": 2,
      "outputs": [
        {
          "output_type": "stream",
          "text": [
            "Your credentails: hidden\n"
          ],
          "name": "stdout"
        }
      ]
    },
    {
      "cell_type": "code",
      "metadata": {
        "id": "hI6DS0lw2HBS",
        "colab_type": "code",
        "outputId": "10222988-366b-481b-cc1b-a57685416450",
        "colab": {
          "base_uri": "https://localhost:8080/",
          "height": 34
        }
      },
      "source": [
        "# Retreiving the coordinates for Los Angeles \n",
        "\n",
        "address = 'Los Angeles, CA'\n",
        "\n",
        "geolocator = Nominatim(user_agent=\"LA_explorer\")\n",
        "location = geolocator.geocode(address)\n",
        "LAlatitude = location.latitude\n",
        "LAlongitude = location.longitude\n",
        "print('The geograpical coordinate of Los Angeles are {}, {}.'.format(LAlatitude, LAlongitude))"
      ],
      "execution_count": 4,
      "outputs": [
        {
          "output_type": "stream",
          "text": [
            "The geograpical coordinate of Los Angeles are 34.0536909, -118.2427666.\n"
          ],
          "name": "stdout"
        }
      ]
    },
    {
      "cell_type": "code",
      "metadata": {
        "colab_type": "code",
        "outputId": "45d7c4e8-26e8-4a82-e69d-c18b066e6517",
        "id": "XU33WXUB2t5d",
        "colab": {
          "base_uri": "https://localhost:8080/",
          "height": 34
        }
      },
      "source": [
        "## Categories and IDs from FourSquare API\n",
        "\n",
        "catIds={}\n",
        "catIds={\n",
        "        'Food':'4d4b7105d754a06374d81259',\n",
        " \n",
        "       }\n",
        "catIds"
      ],
      "execution_count": 3,
      "outputs": [
        {
          "output_type": "execute_result",
          "data": {
            "text/plain": [
              "{'Food': '4d4b7105d754a06374d81259'}"
            ]
          },
          "metadata": {
            "tags": []
          },
          "execution_count": 3
        }
      ]
    },
    {
      "cell_type": "code",
      "metadata": {
        "id": "7HNUiau53oJt",
        "colab_type": "code",
        "outputId": "2a5d23fb-d580-47c5-d33c-286238ff157e",
        "colab": {
          "base_uri": "https://localhost:8080/",
          "height": 51
        }
      },
      "source": [
        "for key in catIds:\n",
        "    print(key)\n",
        "    print(catIds[key])\n"
      ],
      "execution_count": 62,
      "outputs": [
        {
          "output_type": "stream",
          "text": [
            "Food\n",
            "4d4b7105d754a06374d81259\n"
          ],
          "name": "stdout"
        }
      ]
    },
    {
      "cell_type": "code",
      "metadata": {
        "id": "mSO8LhIr3sqU",
        "colab_type": "code",
        "colab": {
          "base_uri": "https://localhost:8080/",
          "height": 232
        },
        "outputId": "5946b64d-3179-459d-e7fe-239c379dd18e"
      },
      "source": [
        "### Foursqaure API\n",
        "\n",
        "venues_list=[]\n",
        "offset = 50\n",
        "LIMIT = 10000 # limit of number of venues returned by Foursquare API\n",
        "radius = 10000 # define radius\n",
        "categoryId='4d4b7105d754a06374d81259'\n",
        "\n",
        "for o in range(offset):\n",
        "  url = 'https://api.foursquare.com/v2/venues/explore?&client_id={}&client_secret={}&v={}&ll={},{}&radius={}&categoryId={}&limit={}&offset={}'.format(CLIENT_ID, \n",
        "                                                                                                                                              CLIENT_SECRET, \n",
        "                                                                                                                                              VERSION, \n",
        "                                                                                                                                              LAlatitude,\n",
        "                                                                                                                                              LAlongitude, \n",
        "                                                                                                                                              radius,\n",
        "                                                                                                                                              categoryId,\n",
        "                                                                                                                                              LIMIT,\n",
        "                                                                                                                                              o)\n",
        "            \n",
        "    # make the GET request\n",
        "            \n",
        "  results = requests.get(url).json()[\"response\"]['groups'][0]['items']\n",
        "        \n",
        "        \n",
        "    # return only relevant information for each nearby venue\n",
        "  venues_list.append([(v['venue']['id'],\n",
        "                     v['venue']['name'], \n",
        "                      v['venue']['location']['lat'], \n",
        "                      v['venue']['location']['lng'],  \n",
        "                      v['venue']['categories'][0]['name']) for v in results])\n",
        "            \n",
        "  nearby_venues = pd.DataFrame([item for venue_list in venues_list for item in venue_list])\n",
        "  nearby_venues.columns = ['id',\n",
        "                         'Venue', \n",
        "                          'Venue Latitude', \n",
        "                          'Venue Longitude', \n",
        "                          'Venue Category']\n",
        "        \n",
        "\n"
      ],
      "execution_count": 66,
      "outputs": [
        {
          "output_type": "error",
          "ename": "KeyError",
          "evalue": "ignored",
          "traceback": [
            "\u001b[0;31m---------------------------------------------------------------------------\u001b[0m",
            "\u001b[0;31mKeyError\u001b[0m                                  Traceback (most recent call last)",
            "\u001b[0;32m<ipython-input-66-bbe42f8cab09>\u001b[0m in \u001b[0;36m<module>\u001b[0;34m()\u001b[0m\n\u001b[1;32m     19\u001b[0m     \u001b[0;31m# make the GET request\u001b[0m\u001b[0;34m\u001b[0m\u001b[0;34m\u001b[0m\u001b[0;34m\u001b[0m\u001b[0m\n\u001b[1;32m     20\u001b[0m \u001b[0;34m\u001b[0m\u001b[0m\n\u001b[0;32m---> 21\u001b[0;31m   \u001b[0mresults\u001b[0m \u001b[0;34m=\u001b[0m \u001b[0mrequests\u001b[0m\u001b[0;34m.\u001b[0m\u001b[0mget\u001b[0m\u001b[0;34m(\u001b[0m\u001b[0murl\u001b[0m\u001b[0;34m)\u001b[0m\u001b[0;34m.\u001b[0m\u001b[0mjson\u001b[0m\u001b[0;34m(\u001b[0m\u001b[0;34m)\u001b[0m\u001b[0;34m[\u001b[0m\u001b[0;34m\"response\"\u001b[0m\u001b[0;34m]\u001b[0m\u001b[0;34m[\u001b[0m\u001b[0;34m'groups'\u001b[0m\u001b[0;34m]\u001b[0m\u001b[0;34m[\u001b[0m\u001b[0;36m0\u001b[0m\u001b[0;34m]\u001b[0m\u001b[0;34m[\u001b[0m\u001b[0;34m'items'\u001b[0m\u001b[0;34m]\u001b[0m\u001b[0;34m\u001b[0m\u001b[0;34m\u001b[0m\u001b[0m\n\u001b[0m\u001b[1;32m     22\u001b[0m \u001b[0;34m\u001b[0m\u001b[0m\n\u001b[1;32m     23\u001b[0m \u001b[0;34m\u001b[0m\u001b[0m\n",
            "\u001b[0;31mKeyError\u001b[0m: 'groups'"
          ]
        }
      ]
    },
    {
      "cell_type": "code",
      "metadata": {
        "id": "3EggO8BkLoii",
        "colab_type": "code",
        "colab": {
          "base_uri": "https://localhost:8080/",
          "height": 419
        },
        "outputId": "a04c18c0-bbc5-4201-b1b6-8ad5e3d62ee7"
      },
      "source": [
        "nearby_venues"
      ],
      "execution_count": 67,
      "outputs": [
        {
          "output_type": "execute_result",
          "data": {
            "text/html": [
              "<div>\n",
              "<style scoped>\n",
              "    .dataframe tbody tr th:only-of-type {\n",
              "        vertical-align: middle;\n",
              "    }\n",
              "\n",
              "    .dataframe tbody tr th {\n",
              "        vertical-align: top;\n",
              "    }\n",
              "\n",
              "    .dataframe thead th {\n",
              "        text-align: right;\n",
              "    }\n",
              "</style>\n",
              "<table border=\"1\" class=\"dataframe\">\n",
              "  <thead>\n",
              "    <tr style=\"text-align: right;\">\n",
              "      <th></th>\n",
              "      <th>id</th>\n",
              "      <th>Venue</th>\n",
              "      <th>Venue Latitude</th>\n",
              "      <th>Venue Longitude</th>\n",
              "      <th>Venue Category</th>\n",
              "    </tr>\n",
              "  </thead>\n",
              "  <tbody>\n",
              "    <tr>\n",
              "      <th>0</th>\n",
              "      <td>54938133498ed65f02e8c4ba</td>\n",
              "      <td>Redbird</td>\n",
              "      <td>34.050666</td>\n",
              "      <td>-118.244068</td>\n",
              "      <td>American Restaurant</td>\n",
              "    </tr>\n",
              "    <tr>\n",
              "      <th>1</th>\n",
              "      <td>5143f2d7e4b039102cf9793f</td>\n",
              "      <td>Marugame Monzo</td>\n",
              "      <td>34.049807</td>\n",
              "      <td>-118.240202</td>\n",
              "      <td>Udon Restaurant</td>\n",
              "    </tr>\n",
              "    <tr>\n",
              "      <th>2</th>\n",
              "      <td>53d06bba498e6c801ea9816e</td>\n",
              "      <td>KazuNori: The Original Hand Roll Bar</td>\n",
              "      <td>34.047716</td>\n",
              "      <td>-118.247452</td>\n",
              "      <td>Sushi Restaurant</td>\n",
              "    </tr>\n",
              "    <tr>\n",
              "      <th>3</th>\n",
              "      <td>4da117b2bf22a143f96894f8</td>\n",
              "      <td>Café Dulcé</td>\n",
              "      <td>34.048869</td>\n",
              "      <td>-118.240508</td>\n",
              "      <td>Bakery</td>\n",
              "    </tr>\n",
              "    <tr>\n",
              "      <th>4</th>\n",
              "      <td>5956f0d0f5e9d7161f043456</td>\n",
              "      <td>Sari Sari Store LA</td>\n",
              "      <td>34.051065</td>\n",
              "      <td>-118.249390</td>\n",
              "      <td>Filipino Restaurant</td>\n",
              "    </tr>\n",
              "    <tr>\n",
              "      <th>...</th>\n",
              "      <td>...</td>\n",
              "      <td>...</td>\n",
              "      <td>...</td>\n",
              "      <td>...</td>\n",
              "      <td>...</td>\n",
              "    </tr>\n",
              "    <tr>\n",
              "      <th>3195</th>\n",
              "      <td>3fd66200f964a520d1f01ee3</td>\n",
              "      <td>BCD Tofu House</td>\n",
              "      <td>34.061961</td>\n",
              "      <td>-118.302713</td>\n",
              "      <td>Korean Restaurant</td>\n",
              "    </tr>\n",
              "    <tr>\n",
              "      <th>3196</th>\n",
              "      <td>459ccb48f964a5209e401fe3</td>\n",
              "      <td>Cassell's Hamburgers</td>\n",
              "      <td>34.063417</td>\n",
              "      <td>-118.300411</td>\n",
              "      <td>Burger Joint</td>\n",
              "    </tr>\n",
              "    <tr>\n",
              "      <th>3197</th>\n",
              "      <td>4b0ca681f964a520934023e3</td>\n",
              "      <td>Yang san bak</td>\n",
              "      <td>34.063955</td>\n",
              "      <td>-118.300540</td>\n",
              "      <td>Korean Restaurant</td>\n",
              "    </tr>\n",
              "    <tr>\n",
              "      <th>3198</th>\n",
              "      <td>49e399a4f964a5209e621fe3</td>\n",
              "      <td>Gingergrass</td>\n",
              "      <td>34.100146</td>\n",
              "      <td>-118.259050</td>\n",
              "      <td>Vietnamese Restaurant</td>\n",
              "    </tr>\n",
              "    <tr>\n",
              "      <th>3199</th>\n",
              "      <td>56fd5783498e7b83e2bfb197</td>\n",
              "      <td>Salazar</td>\n",
              "      <td>34.107472</td>\n",
              "      <td>-118.254308</td>\n",
              "      <td>Mexican Restaurant</td>\n",
              "    </tr>\n",
              "  </tbody>\n",
              "</table>\n",
              "<p>3200 rows × 5 columns</p>\n",
              "</div>"
            ],
            "text/plain": [
              "                            id  ...         Venue Category\n",
              "0     54938133498ed65f02e8c4ba  ...    American Restaurant\n",
              "1     5143f2d7e4b039102cf9793f  ...        Udon Restaurant\n",
              "2     53d06bba498e6c801ea9816e  ...       Sushi Restaurant\n",
              "3     4da117b2bf22a143f96894f8  ...                 Bakery\n",
              "4     5956f0d0f5e9d7161f043456  ...    Filipino Restaurant\n",
              "...                        ...  ...                    ...\n",
              "3195  3fd66200f964a520d1f01ee3  ...      Korean Restaurant\n",
              "3196  459ccb48f964a5209e401fe3  ...           Burger Joint\n",
              "3197  4b0ca681f964a520934023e3  ...      Korean Restaurant\n",
              "3198  49e399a4f964a5209e621fe3  ...  Vietnamese Restaurant\n",
              "3199  56fd5783498e7b83e2bfb197  ...     Mexican Restaurant\n",
              "\n",
              "[3200 rows x 5 columns]"
            ]
          },
          "metadata": {
            "tags": []
          },
          "execution_count": 67
        }
      ]
    },
    {
      "cell_type": "code",
      "metadata": {
        "id": "7LpOWp2C36DQ",
        "colab_type": "code",
        "outputId": "0a21b634-3e2d-4a1c-c99e-70e7de4dd5ac",
        "colab": {
          "base_uri": "https://localhost:8080/",
          "height": 1000
        }
      },
      "source": [
        "group = nearby_venues.groupby('Venue Category', sort = True).count().sort_values('id', ascending = False)\n",
        "\n",
        "group"
      ],
      "execution_count": 68,
      "outputs": [
        {
          "output_type": "execute_result",
          "data": {
            "text/html": [
              "<div>\n",
              "<style scoped>\n",
              "    .dataframe tbody tr th:only-of-type {\n",
              "        vertical-align: middle;\n",
              "    }\n",
              "\n",
              "    .dataframe tbody tr th {\n",
              "        vertical-align: top;\n",
              "    }\n",
              "\n",
              "    .dataframe thead th {\n",
              "        text-align: right;\n",
              "    }\n",
              "</style>\n",
              "<table border=\"1\" class=\"dataframe\">\n",
              "  <thead>\n",
              "    <tr style=\"text-align: right;\">\n",
              "      <th></th>\n",
              "      <th>id</th>\n",
              "      <th>Venue</th>\n",
              "      <th>Venue Latitude</th>\n",
              "      <th>Venue Longitude</th>\n",
              "    </tr>\n",
              "    <tr>\n",
              "      <th>Venue Category</th>\n",
              "      <th></th>\n",
              "      <th></th>\n",
              "      <th></th>\n",
              "      <th></th>\n",
              "    </tr>\n",
              "  </thead>\n",
              "  <tbody>\n",
              "    <tr>\n",
              "      <th>Korean Restaurant</th>\n",
              "      <td>242</td>\n",
              "      <td>242</td>\n",
              "      <td>242</td>\n",
              "      <td>242</td>\n",
              "    </tr>\n",
              "    <tr>\n",
              "      <th>Taco Place</th>\n",
              "      <td>184</td>\n",
              "      <td>184</td>\n",
              "      <td>184</td>\n",
              "      <td>184</td>\n",
              "    </tr>\n",
              "    <tr>\n",
              "      <th>Mexican Restaurant</th>\n",
              "      <td>172</td>\n",
              "      <td>172</td>\n",
              "      <td>172</td>\n",
              "      <td>172</td>\n",
              "    </tr>\n",
              "    <tr>\n",
              "      <th>Japanese Restaurant</th>\n",
              "      <td>157</td>\n",
              "      <td>157</td>\n",
              "      <td>157</td>\n",
              "      <td>157</td>\n",
              "    </tr>\n",
              "    <tr>\n",
              "      <th>Italian Restaurant</th>\n",
              "      <td>151</td>\n",
              "      <td>151</td>\n",
              "      <td>151</td>\n",
              "      <td>151</td>\n",
              "    </tr>\n",
              "    <tr>\n",
              "      <th>Asian Restaurant</th>\n",
              "      <td>150</td>\n",
              "      <td>150</td>\n",
              "      <td>150</td>\n",
              "      <td>150</td>\n",
              "    </tr>\n",
              "    <tr>\n",
              "      <th>New American Restaurant</th>\n",
              "      <td>145</td>\n",
              "      <td>145</td>\n",
              "      <td>145</td>\n",
              "      <td>145</td>\n",
              "    </tr>\n",
              "    <tr>\n",
              "      <th>Café</th>\n",
              "      <td>140</td>\n",
              "      <td>140</td>\n",
              "      <td>140</td>\n",
              "      <td>140</td>\n",
              "    </tr>\n",
              "    <tr>\n",
              "      <th>Food Truck</th>\n",
              "      <td>128</td>\n",
              "      <td>128</td>\n",
              "      <td>128</td>\n",
              "      <td>128</td>\n",
              "    </tr>\n",
              "    <tr>\n",
              "      <th>Sandwich Place</th>\n",
              "      <td>115</td>\n",
              "      <td>115</td>\n",
              "      <td>115</td>\n",
              "      <td>115</td>\n",
              "    </tr>\n",
              "    <tr>\n",
              "      <th>Bakery</th>\n",
              "      <td>108</td>\n",
              "      <td>108</td>\n",
              "      <td>108</td>\n",
              "      <td>108</td>\n",
              "    </tr>\n",
              "    <tr>\n",
              "      <th>Restaurant</th>\n",
              "      <td>106</td>\n",
              "      <td>106</td>\n",
              "      <td>106</td>\n",
              "      <td>106</td>\n",
              "    </tr>\n",
              "    <tr>\n",
              "      <th>American Restaurant</th>\n",
              "      <td>100</td>\n",
              "      <td>100</td>\n",
              "      <td>100</td>\n",
              "      <td>100</td>\n",
              "    </tr>\n",
              "    <tr>\n",
              "      <th>Burger Joint</th>\n",
              "      <td>100</td>\n",
              "      <td>100</td>\n",
              "      <td>100</td>\n",
              "      <td>100</td>\n",
              "    </tr>\n",
              "    <tr>\n",
              "      <th>Seafood Restaurant</th>\n",
              "      <td>97</td>\n",
              "      <td>97</td>\n",
              "      <td>97</td>\n",
              "      <td>97</td>\n",
              "    </tr>\n",
              "    <tr>\n",
              "      <th>Mediterranean Restaurant</th>\n",
              "      <td>96</td>\n",
              "      <td>96</td>\n",
              "      <td>96</td>\n",
              "      <td>96</td>\n",
              "    </tr>\n",
              "    <tr>\n",
              "      <th>Deli / Bodega</th>\n",
              "      <td>91</td>\n",
              "      <td>91</td>\n",
              "      <td>91</td>\n",
              "      <td>91</td>\n",
              "    </tr>\n",
              "    <tr>\n",
              "      <th>Sushi Restaurant</th>\n",
              "      <td>76</td>\n",
              "      <td>76</td>\n",
              "      <td>76</td>\n",
              "      <td>76</td>\n",
              "    </tr>\n",
              "    <tr>\n",
              "      <th>Vegetarian / Vegan Restaurant</th>\n",
              "      <td>70</td>\n",
              "      <td>70</td>\n",
              "      <td>70</td>\n",
              "      <td>70</td>\n",
              "    </tr>\n",
              "    <tr>\n",
              "      <th>Pizza Place</th>\n",
              "      <td>64</td>\n",
              "      <td>64</td>\n",
              "      <td>64</td>\n",
              "      <td>64</td>\n",
              "    </tr>\n",
              "    <tr>\n",
              "      <th>Donut Shop</th>\n",
              "      <td>64</td>\n",
              "      <td>64</td>\n",
              "      <td>64</td>\n",
              "      <td>64</td>\n",
              "    </tr>\n",
              "    <tr>\n",
              "      <th>Gastropub</th>\n",
              "      <td>59</td>\n",
              "      <td>59</td>\n",
              "      <td>59</td>\n",
              "      <td>59</td>\n",
              "    </tr>\n",
              "    <tr>\n",
              "      <th>Latin American Restaurant</th>\n",
              "      <td>58</td>\n",
              "      <td>58</td>\n",
              "      <td>58</td>\n",
              "      <td>58</td>\n",
              "    </tr>\n",
              "    <tr>\n",
              "      <th>Breakfast Spot</th>\n",
              "      <td>57</td>\n",
              "      <td>57</td>\n",
              "      <td>57</td>\n",
              "      <td>57</td>\n",
              "    </tr>\n",
              "    <tr>\n",
              "      <th>Ramen Restaurant</th>\n",
              "      <td>51</td>\n",
              "      <td>51</td>\n",
              "      <td>51</td>\n",
              "      <td>51</td>\n",
              "    </tr>\n",
              "    <tr>\n",
              "      <th>Fried Chicken Joint</th>\n",
              "      <td>50</td>\n",
              "      <td>50</td>\n",
              "      <td>50</td>\n",
              "      <td>50</td>\n",
              "    </tr>\n",
              "    <tr>\n",
              "      <th>French Restaurant</th>\n",
              "      <td>49</td>\n",
              "      <td>49</td>\n",
              "      <td>49</td>\n",
              "      <td>49</td>\n",
              "    </tr>\n",
              "    <tr>\n",
              "      <th>Cajun / Creole Restaurant</th>\n",
              "      <td>44</td>\n",
              "      <td>44</td>\n",
              "      <td>44</td>\n",
              "      <td>44</td>\n",
              "    </tr>\n",
              "    <tr>\n",
              "      <th>Vietnamese Restaurant</th>\n",
              "      <td>34</td>\n",
              "      <td>34</td>\n",
              "      <td>34</td>\n",
              "      <td>34</td>\n",
              "    </tr>\n",
              "    <tr>\n",
              "      <th>Poke Place</th>\n",
              "      <td>32</td>\n",
              "      <td>32</td>\n",
              "      <td>32</td>\n",
              "      <td>32</td>\n",
              "    </tr>\n",
              "    <tr>\n",
              "      <th>Food Court</th>\n",
              "      <td>32</td>\n",
              "      <td>32</td>\n",
              "      <td>32</td>\n",
              "      <td>32</td>\n",
              "    </tr>\n",
              "    <tr>\n",
              "      <th>Diner</th>\n",
              "      <td>32</td>\n",
              "      <td>32</td>\n",
              "      <td>32</td>\n",
              "      <td>32</td>\n",
              "    </tr>\n",
              "    <tr>\n",
              "      <th>Steakhouse</th>\n",
              "      <td>32</td>\n",
              "      <td>32</td>\n",
              "      <td>32</td>\n",
              "      <td>32</td>\n",
              "    </tr>\n",
              "    <tr>\n",
              "      <th>Thai Restaurant</th>\n",
              "      <td>30</td>\n",
              "      <td>30</td>\n",
              "      <td>30</td>\n",
              "      <td>30</td>\n",
              "    </tr>\n",
              "    <tr>\n",
              "      <th>Taiwanese Restaurant</th>\n",
              "      <td>29</td>\n",
              "      <td>29</td>\n",
              "      <td>29</td>\n",
              "      <td>29</td>\n",
              "    </tr>\n",
              "    <tr>\n",
              "      <th>German Restaurant</th>\n",
              "      <td>15</td>\n",
              "      <td>15</td>\n",
              "      <td>15</td>\n",
              "      <td>15</td>\n",
              "    </tr>\n",
              "    <tr>\n",
              "      <th>Ethiopian Restaurant</th>\n",
              "      <td>9</td>\n",
              "      <td>9</td>\n",
              "      <td>9</td>\n",
              "      <td>9</td>\n",
              "    </tr>\n",
              "    <tr>\n",
              "      <th>BBQ Joint</th>\n",
              "      <td>9</td>\n",
              "      <td>9</td>\n",
              "      <td>9</td>\n",
              "      <td>9</td>\n",
              "    </tr>\n",
              "    <tr>\n",
              "      <th>Indian Restaurant</th>\n",
              "      <td>8</td>\n",
              "      <td>8</td>\n",
              "      <td>8</td>\n",
              "      <td>8</td>\n",
              "    </tr>\n",
              "    <tr>\n",
              "      <th>Falafel Restaurant</th>\n",
              "      <td>7</td>\n",
              "      <td>7</td>\n",
              "      <td>7</td>\n",
              "      <td>7</td>\n",
              "    </tr>\n",
              "    <tr>\n",
              "      <th>Filipino Restaurant</th>\n",
              "      <td>5</td>\n",
              "      <td>5</td>\n",
              "      <td>5</td>\n",
              "      <td>5</td>\n",
              "    </tr>\n",
              "    <tr>\n",
              "      <th>Udon Restaurant</th>\n",
              "      <td>2</td>\n",
              "      <td>2</td>\n",
              "      <td>2</td>\n",
              "      <td>2</td>\n",
              "    </tr>\n",
              "  </tbody>\n",
              "</table>\n",
              "</div>"
            ],
            "text/plain": [
              "                                id  Venue  Venue Latitude  Venue Longitude\n",
              "Venue Category                                                            \n",
              "Korean Restaurant              242    242             242              242\n",
              "Taco Place                     184    184             184              184\n",
              "Mexican Restaurant             172    172             172              172\n",
              "Japanese Restaurant            157    157             157              157\n",
              "Italian Restaurant             151    151             151              151\n",
              "Asian Restaurant               150    150             150              150\n",
              "New American Restaurant        145    145             145              145\n",
              "Café                           140    140             140              140\n",
              "Food Truck                     128    128             128              128\n",
              "Sandwich Place                 115    115             115              115\n",
              "Bakery                         108    108             108              108\n",
              "Restaurant                     106    106             106              106\n",
              "American Restaurant            100    100             100              100\n",
              "Burger Joint                   100    100             100              100\n",
              "Seafood Restaurant              97     97              97               97\n",
              "Mediterranean Restaurant        96     96              96               96\n",
              "Deli / Bodega                   91     91              91               91\n",
              "Sushi Restaurant                76     76              76               76\n",
              "Vegetarian / Vegan Restaurant   70     70              70               70\n",
              "Pizza Place                     64     64              64               64\n",
              "Donut Shop                      64     64              64               64\n",
              "Gastropub                       59     59              59               59\n",
              "Latin American Restaurant       58     58              58               58\n",
              "Breakfast Spot                  57     57              57               57\n",
              "Ramen Restaurant                51     51              51               51\n",
              "Fried Chicken Joint             50     50              50               50\n",
              "French Restaurant               49     49              49               49\n",
              "Cajun / Creole Restaurant       44     44              44               44\n",
              "Vietnamese Restaurant           34     34              34               34\n",
              "Poke Place                      32     32              32               32\n",
              "Food Court                      32     32              32               32\n",
              "Diner                           32     32              32               32\n",
              "Steakhouse                      32     32              32               32\n",
              "Thai Restaurant                 30     30              30               30\n",
              "Taiwanese Restaurant            29     29              29               29\n",
              "German Restaurant               15     15              15               15\n",
              "Ethiopian Restaurant             9      9               9                9\n",
              "BBQ Joint                        9      9               9                9\n",
              "Indian Restaurant                8      8               8                8\n",
              "Falafel Restaurant               7      7               7                7\n",
              "Filipino Restaurant              5      5               5                5\n",
              "Udon Restaurant                  2      2               2                2"
            ]
          },
          "metadata": {
            "tags": []
          },
          "execution_count": 68
        }
      ]
    },
    {
      "cell_type": "code",
      "metadata": {
        "id": "v-vyY20e91em",
        "colab_type": "code",
        "colab": {}
      },
      "source": [
        "## Saving the nearby venues data as a csv to avoid repeated API calls \n",
        "nearby_venues.to_csv('/content/drive/My Drive/IBM Capstone/LA_food.csv')"
      ],
      "execution_count": 0,
      "outputs": []
    },
    {
      "cell_type": "code",
      "metadata": {
        "id": "hVahgXpX98b-",
        "colab_type": "code",
        "colab": {}
      },
      "source": [
        "## Reading the nearby venues data as a csv\n",
        "la_food  = pd.read_csv('/content/drive/My Drive/IBM Capstone/LA_food.csv', index_col=[0])"
      ],
      "execution_count": 0,
      "outputs": []
    },
    {
      "cell_type": "code",
      "metadata": {
        "id": "F7G3ApVC-LWB",
        "colab_type": "code",
        "outputId": "700a43eb-cf5c-4e37-cf0f-5edd85a13bb2",
        "colab": {
          "base_uri": "https://localhost:8080/",
          "height": 204
        }
      },
      "source": [
        "la_food.tail()"
      ],
      "execution_count": 71,
      "outputs": [
        {
          "output_type": "execute_result",
          "data": {
            "text/html": [
              "<div>\n",
              "<style scoped>\n",
              "    .dataframe tbody tr th:only-of-type {\n",
              "        vertical-align: middle;\n",
              "    }\n",
              "\n",
              "    .dataframe tbody tr th {\n",
              "        vertical-align: top;\n",
              "    }\n",
              "\n",
              "    .dataframe thead th {\n",
              "        text-align: right;\n",
              "    }\n",
              "</style>\n",
              "<table border=\"1\" class=\"dataframe\">\n",
              "  <thead>\n",
              "    <tr style=\"text-align: right;\">\n",
              "      <th></th>\n",
              "      <th>id</th>\n",
              "      <th>Venue</th>\n",
              "      <th>Venue Latitude</th>\n",
              "      <th>Venue Longitude</th>\n",
              "      <th>Venue Category</th>\n",
              "    </tr>\n",
              "  </thead>\n",
              "  <tbody>\n",
              "    <tr>\n",
              "      <th>3195</th>\n",
              "      <td>3fd66200f964a520d1f01ee3</td>\n",
              "      <td>BCD Tofu House</td>\n",
              "      <td>34.061961</td>\n",
              "      <td>-118.302713</td>\n",
              "      <td>Korean Restaurant</td>\n",
              "    </tr>\n",
              "    <tr>\n",
              "      <th>3196</th>\n",
              "      <td>459ccb48f964a5209e401fe3</td>\n",
              "      <td>Cassell's Hamburgers</td>\n",
              "      <td>34.063417</td>\n",
              "      <td>-118.300411</td>\n",
              "      <td>Burger Joint</td>\n",
              "    </tr>\n",
              "    <tr>\n",
              "      <th>3197</th>\n",
              "      <td>4b0ca681f964a520934023e3</td>\n",
              "      <td>Yang san bak</td>\n",
              "      <td>34.063955</td>\n",
              "      <td>-118.300540</td>\n",
              "      <td>Korean Restaurant</td>\n",
              "    </tr>\n",
              "    <tr>\n",
              "      <th>3198</th>\n",
              "      <td>49e399a4f964a5209e621fe3</td>\n",
              "      <td>Gingergrass</td>\n",
              "      <td>34.100146</td>\n",
              "      <td>-118.259050</td>\n",
              "      <td>Vietnamese Restaurant</td>\n",
              "    </tr>\n",
              "    <tr>\n",
              "      <th>3199</th>\n",
              "      <td>56fd5783498e7b83e2bfb197</td>\n",
              "      <td>Salazar</td>\n",
              "      <td>34.107472</td>\n",
              "      <td>-118.254308</td>\n",
              "      <td>Mexican Restaurant</td>\n",
              "    </tr>\n",
              "  </tbody>\n",
              "</table>\n",
              "</div>"
            ],
            "text/plain": [
              "                            id  ...         Venue Category\n",
              "3195  3fd66200f964a520d1f01ee3  ...      Korean Restaurant\n",
              "3196  459ccb48f964a5209e401fe3  ...           Burger Joint\n",
              "3197  4b0ca681f964a520934023e3  ...      Korean Restaurant\n",
              "3198  49e399a4f964a5209e621fe3  ...  Vietnamese Restaurant\n",
              "3199  56fd5783498e7b83e2bfb197  ...     Mexican Restaurant\n",
              "\n",
              "[5 rows x 5 columns]"
            ]
          },
          "metadata": {
            "tags": []
          },
          "execution_count": 71
        }
      ]
    },
    {
      "cell_type": "code",
      "metadata": {
        "id": "J4GWIav6N29h",
        "colab_type": "code",
        "colab": {
          "base_uri": "https://localhost:8080/",
          "height": 34
        },
        "outputId": "b5442a96-c247-48aa-d986-23b0e7a4a44d"
      },
      "source": [
        "venue_id = '49e399a4f964a5209e621fe3'\n",
        "url = 'https://api.foursquare.com/v2/venues/{}/menu?&client_id={}&client_secret={}&v={}'.format(venue_id, CLIENT_ID, CLIENT_SECRET, VERSION)\n",
        "            \n",
        "    # make the GET request\n",
        "            \n",
        "results = requests.get(url).json()['response']['menu']['menus']['items'][0]['entries']['items'][0]['entries']['items'][2]['description']\n",
        "results"
      ],
      "execution_count": 109,
      "outputs": [
        {
          "output_type": "execute_result",
          "data": {
            "text/plain": [
              "'Free range chicken, ginger, lemongrass, basil, onion, garlic, chilies'"
            ]
          },
          "metadata": {
            "tags": []
          },
          "execution_count": 109
        }
      ]
    },
    {
      "cell_type": "code",
      "metadata": {
        "id": "kdGvZKg_S00k",
        "colab_type": "code",
        "colab": {
          "base_uri": "https://localhost:8080/",
          "height": 235
        },
        "outputId": "bb5215f4-cf86-42a9-f392-39bbd46c7258"
      },
      "source": [
        "venue_id = '49e399a4f964a5209e621fe3'\n",
        "url = 'https://api.foursquare.com/v2/venues/{}/menu?&client_id={}&client_secret={}&v={}'.format(venue_id, CLIENT_ID, CLIENT_SECRET, VERSION)\n",
        "            \n",
        "    # make the GET request\n",
        "            \n",
        "menu_num = requests.get(url).json()['response']['menu']['menus']['count']\n",
        " \n",
        "results=[]\n",
        "\n",
        "for m in range(menu_num): \n",
        "  item_num=requests.get(url).json()['response']['menu']['menus']['items'][m]['entries']['count']\n",
        "  for i in range(item_num):\n",
        "    entry_num = requests.get(url).json()['response']['menu']['menus']['items'][m]['entries']['items'][i]['entries']['count']\n",
        "    for e in range(entry_num):\n",
        "\n",
        "      results.append(requests.get(url).json()['response']['menu']['menus']['items'][m]['entries']['items'][i]['entries']['items'][e]['description'])\n",
        "\n"
      ],
      "execution_count": 148,
      "outputs": [
        {
          "output_type": "error",
          "ename": "KeyError",
          "evalue": "ignored",
          "traceback": [
            "\u001b[0;31m---------------------------------------------------------------------------\u001b[0m",
            "\u001b[0;31mKeyError\u001b[0m                                  Traceback (most recent call last)",
            "\u001b[0;32m<ipython-input-148-f56c81cff904>\u001b[0m in \u001b[0;36m<module>\u001b[0;34m()\u001b[0m\n\u001b[1;32m     14\u001b[0m     \u001b[0;32mfor\u001b[0m \u001b[0me\u001b[0m \u001b[0;32min\u001b[0m \u001b[0mrange\u001b[0m\u001b[0;34m(\u001b[0m\u001b[0mentry_num\u001b[0m\u001b[0;34m)\u001b[0m\u001b[0;34m:\u001b[0m\u001b[0;34m\u001b[0m\u001b[0;34m\u001b[0m\u001b[0m\n\u001b[1;32m     15\u001b[0m \u001b[0;34m\u001b[0m\u001b[0m\n\u001b[0;32m---> 16\u001b[0;31m       \u001b[0mresults\u001b[0m\u001b[0;34m.\u001b[0m\u001b[0mappend\u001b[0m\u001b[0;34m(\u001b[0m\u001b[0mrequests\u001b[0m\u001b[0;34m.\u001b[0m\u001b[0mget\u001b[0m\u001b[0;34m(\u001b[0m\u001b[0murl\u001b[0m\u001b[0;34m)\u001b[0m\u001b[0;34m.\u001b[0m\u001b[0mjson\u001b[0m\u001b[0;34m(\u001b[0m\u001b[0;34m)\u001b[0m\u001b[0;34m[\u001b[0m\u001b[0;34m'response'\u001b[0m\u001b[0;34m]\u001b[0m\u001b[0;34m[\u001b[0m\u001b[0;34m'menu'\u001b[0m\u001b[0;34m]\u001b[0m\u001b[0;34m[\u001b[0m\u001b[0;34m'menus'\u001b[0m\u001b[0;34m]\u001b[0m\u001b[0;34m[\u001b[0m\u001b[0;34m'items'\u001b[0m\u001b[0;34m]\u001b[0m\u001b[0;34m[\u001b[0m\u001b[0mm\u001b[0m\u001b[0;34m]\u001b[0m\u001b[0;34m[\u001b[0m\u001b[0;34m'entries'\u001b[0m\u001b[0;34m]\u001b[0m\u001b[0;34m[\u001b[0m\u001b[0;34m'items'\u001b[0m\u001b[0;34m]\u001b[0m\u001b[0;34m[\u001b[0m\u001b[0mi\u001b[0m\u001b[0;34m]\u001b[0m\u001b[0;34m[\u001b[0m\u001b[0;34m'entries'\u001b[0m\u001b[0;34m]\u001b[0m\u001b[0;34m[\u001b[0m\u001b[0;34m'items'\u001b[0m\u001b[0;34m]\u001b[0m\u001b[0;34m[\u001b[0m\u001b[0me\u001b[0m\u001b[0;34m]\u001b[0m\u001b[0;34m[\u001b[0m\u001b[0;34m'description'\u001b[0m\u001b[0;34m]\u001b[0m\u001b[0;34m)\u001b[0m\u001b[0;34m\u001b[0m\u001b[0;34m\u001b[0m\u001b[0m\n\u001b[0m\u001b[1;32m     17\u001b[0m \u001b[0;34m\u001b[0m\u001b[0m\n",
            "\u001b[0;31mKeyError\u001b[0m: 'description'"
          ]
        }
      ]
    },
    {
      "cell_type": "code",
      "metadata": {
        "id": "oEyGFNfjUJnz",
        "colab_type": "code",
        "colab": {
          "base_uri": "https://localhost:8080/",
          "height": 547
        },
        "outputId": "cdfece7d-3e83-4fac-bcfc-01f2f94f82e1"
      },
      "source": [
        "results"
      ],
      "execution_count": 149,
      "outputs": [
        {
          "output_type": "execute_result",
          "data": {
            "text/plain": [
              "['Bok choy, shiitake, crispy tofu',\n",
              " 'Marinated in a garlic-shallot sauce and roasted',\n",
              " 'Free range chicken, ginger, lemongrass, basil, onion, garlic, chilies',\n",
              " 'Red leaf lettuce, mint, perilla, cucumbers, pickled root vegetables and nuoc cham. Crab and shrimp, vegetable, chicken',\n",
              " 'Sweet salt, pepper, grilled onion, cilantro, chilies',\n",
              " 'Grilled with spicy coconut peanut sauce',\n",
              " 'Served with aioli',\n",
              " 'Taro fries with grilled onion, chilies, aioli, cilantro and shallots',\n",
              " 'Wood ear mushroom, jicama and choice of tofu or pork',\n",
              " 'Papaya, carrots, red pepper, peanuts, shallots',\n",
              " 'Shrimp, roasted pork, red leaf lettuce, mint, perilla, vermicelli, peanut sauce.',\n",
              " 'Asparagus, zucchini, red pepper, shiitake, red leaf lettuce, perilla, vermicelli',\n",
              " 'Jicama, carrot, tofu, coconut, mushroom, egg, red leaf lettuce, herbs, peanuts',\n",
              " 'Seared Albacore, basil, avocado, pickled root vegetables, chilies, vermicelli, basil aioli',\n",
              " 'Avocado, asparagus, basil, vermicelli, herbs, spicy dipping sauce',\n",
              " 'Free range chicken, baby kale, frisee, red pepper, onion, pickled shallots, herbs, peanuts, crispy shallots, peanut vinaigrette',\n",
              " 'Soft organic tofu, butter lettuce, jicama, red pepper, shiitake, herbs, cucumber, bean sprouts, tamarind dressing, basil pesto',\n",
              " 'Market kale, avocado, carrot, cilantro, onion, red pepper vinaigrette',\n",
              " 'Free range chicken, ginger-chicken broth',\n",
              " 'Bok choy, broccoli, carrots, shiitake, baked tofu, spiced vegan broth',\n",
              " 'Beef bone broth, cloves, ginger, star anise with oxtail and brisket',\n",
              " 'Fish, shrimp, pineapple, tomato, tamarind broth',\n",
              " 'Free range half-chicken marinated in soy, garlic, and lemongrass',\n",
              " 'Japanese eggplant, long beans, ginger, and hoisin with choice of pork, chicken or tofu',\n",
              " 'Filet mignon, onions, chilies, upland cress salad',\n",
              " 'Bok choy, shiitake, crispy tofu',\n",
              " 'Marinated in a garlic-shallot sauce and grilled',\n",
              " 'Egg noodles, bean sprouts, scallions, carrots, cabbage, egg, topped with peanuts. Choice of chicken, beef, baked tofu, vegetables, or shrimp (add $3)',\n",
              " 'Bok choy, broccoli, cauliflower, carrot, yam, lemongrass-lime yellow curry. Choice of baked tofu, chicken (add $1) or shrimp (add $3)',\n",
              " 'Soy ginger salmon, black coconut rice, apple slaw']"
            ]
          },
          "metadata": {
            "tags": []
          },
          "execution_count": 149
        }
      ]
    }
  ]
}